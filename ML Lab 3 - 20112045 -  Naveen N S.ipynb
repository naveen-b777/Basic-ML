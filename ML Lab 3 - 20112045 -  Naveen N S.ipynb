{
 "cells": [
  {
   "cell_type": "markdown",
   "metadata": {},
   "source": [
    "# Machine Learning Lab 3 :-  Prediction of Numeric Values\n",
    "<hr/>\n",
    "\n",
    "**Submitted by:-** <br>\n",
    "\n",
    "Name: **Naveen N S** <br>\n",
    "Register Number: **20112045** <br>\n",
    "Class: **4BSCDS** <br> \n",
    "<hr/>"
   ]
  },
  {
   "cell_type": "markdown",
   "metadata": {},
   "source": [
    "# Lab Overview\n",
    "---------------------------------\n",
    "\n",
    "- Using Pandas to Import the Dataset\n",
    "- Doing the necessary Exploratory Data Analysis\n",
    "- Using the train_test_split method available in SCIKIT to split the dataset into Train Dataset and Test Dataset.\n",
    "- Showing the Regression Score, Intercept and other parameters etc in the Output\n",
    "- Using visualizations and plots wherever necessary"
   ]
  },
  {
   "cell_type": "markdown",
   "metadata": {},
   "source": [
    "## 1] What are your observations on the Dataset?\n",
    "--------------------------------------"
   ]
  },
  {
   "cell_type": "markdown",
   "metadata": {},
   "source": [
    "## Problem Approach\n",
    "-----------------------------------\n",
    "- Importing required libraries\n",
    "- Using read_csv to load dataset \n",
    "- Doing EDA on the given dataset\n"
   ]
  },
  {
   "cell_type": "code",
   "execution_count": 59,
   "metadata": {},
   "outputs": [],
   "source": [
    "# importing requried libraries\n",
    "\n",
    "import pandas as pd\n",
    "import seaborn as sns\n",
    "import matplotlib.pyplot as plt\n",
    "import numpy as np\n",
    "import plotly.express as px"
   ]
  },
  {
   "cell_type": "code",
   "execution_count": 2,
   "metadata": {},
   "outputs": [],
   "source": [
    "# to ignore warnings\n",
    "\n",
    "import warnings\n",
    "\n",
    "def fxn():\n",
    "    warnings.warn(\"deprecated\", DeprecationWarning)\n",
    "\n",
    "with warnings.catch_warnings():\n",
    "    warnings.simplefilter(\"ignore\")\n",
    "    fxn()"
   ]
  },
  {
   "cell_type": "code",
   "execution_count": 61,
   "metadata": {},
   "outputs": [
    {
     "data": {
      "text/html": [
       "<div>\n",
       "<style scoped>\n",
       "    .dataframe tbody tr th:only-of-type {\n",
       "        vertical-align: middle;\n",
       "    }\n",
       "\n",
       "    .dataframe tbody tr th {\n",
       "        vertical-align: top;\n",
       "    }\n",
       "\n",
       "    .dataframe thead th {\n",
       "        text-align: right;\n",
       "    }\n",
       "</style>\n",
       "<table border=\"1\" class=\"dataframe\">\n",
       "  <thead>\n",
       "    <tr style=\"text-align: right;\">\n",
       "      <th></th>\n",
       "      <th>BuildingType</th>\n",
       "      <th>Location</th>\n",
       "      <th>Size</th>\n",
       "      <th>AreaSqFt</th>\n",
       "      <th>NoOfBath</th>\n",
       "      <th>NoOfPeople</th>\n",
       "      <th>NoOfBalcony</th>\n",
       "      <th>RentPerMonth</th>\n",
       "    </tr>\n",
       "  </thead>\n",
       "  <tbody>\n",
       "    <tr>\n",
       "      <th>0</th>\n",
       "      <td>Minimum Budget Rooms</td>\n",
       "      <td>Portofino H</td>\n",
       "      <td>1 BHK</td>\n",
       "      <td>400.0</td>\n",
       "      <td>1</td>\n",
       "      <td>1</td>\n",
       "      <td>1</td>\n",
       "      <td>1100.0</td>\n",
       "    </tr>\n",
       "    <tr>\n",
       "      <th>1</th>\n",
       "      <td>Minimum Budget Rooms</td>\n",
       "      <td>Portofino H</td>\n",
       "      <td>1 BHK</td>\n",
       "      <td>450.0</td>\n",
       "      <td>1</td>\n",
       "      <td>1</td>\n",
       "      <td>1</td>\n",
       "      <td>1100.0</td>\n",
       "    </tr>\n",
       "    <tr>\n",
       "      <th>2</th>\n",
       "      <td>Minimum Budget Rooms</td>\n",
       "      <td>School Street</td>\n",
       "      <td>1 BHK</td>\n",
       "      <td>530.0</td>\n",
       "      <td>1</td>\n",
       "      <td>1</td>\n",
       "      <td>0</td>\n",
       "      <td>1166.0</td>\n",
       "    </tr>\n",
       "    <tr>\n",
       "      <th>3</th>\n",
       "      <td>Minimum Budget Rooms</td>\n",
       "      <td>Portofino B</td>\n",
       "      <td>1 BHK</td>\n",
       "      <td>400.0</td>\n",
       "      <td>1</td>\n",
       "      <td>1</td>\n",
       "      <td>0</td>\n",
       "      <td>1400.0</td>\n",
       "    </tr>\n",
       "    <tr>\n",
       "      <th>4</th>\n",
       "      <td>Minimum Budget Rooms</td>\n",
       "      <td>School Street</td>\n",
       "      <td>2 BHK</td>\n",
       "      <td>460.0</td>\n",
       "      <td>1</td>\n",
       "      <td>1</td>\n",
       "      <td>0</td>\n",
       "      <td>1500.0</td>\n",
       "    </tr>\n",
       "  </tbody>\n",
       "</table>\n",
       "</div>"
      ],
      "text/plain": [
       "           BuildingType       Location   Size  AreaSqFt  NoOfBath  NoOfPeople  \\\n",
       "0  Minimum Budget Rooms    Portofino H  1 BHK     400.0         1           1   \n",
       "1  Minimum Budget Rooms    Portofino H  1 BHK     450.0         1           1   \n",
       "2  Minimum Budget Rooms  School Street  1 BHK     530.0         1           1   \n",
       "3  Minimum Budget Rooms    Portofino B  1 BHK     400.0         1           1   \n",
       "4  Minimum Budget Rooms  School Street  2 BHK     460.0         1           1   \n",
       "\n",
       "   NoOfBalcony  RentPerMonth  \n",
       "0            1        1100.0  \n",
       "1            1        1100.0  \n",
       "2            0        1166.0  \n",
       "3            0        1400.0  \n",
       "4            0        1500.0  "
      ]
     },
     "execution_count": 61,
     "metadata": {},
     "output_type": "execute_result"
    }
   ],
   "source": [
    "#loading dataset\n",
    "\n",
    "df = pd.read_csv(\"HousePricesLab3.csv\")\n",
    "df.head()"
   ]
  },
  {
   "cell_type": "code",
   "execution_count": 4,
   "metadata": {},
   "outputs": [
    {
     "name": "stdout",
     "output_type": "stream",
     "text": [
      "<class 'pandas.core.frame.DataFrame'>\n",
      "RangeIndex: 1000 entries, 0 to 999\n",
      "Data columns (total 8 columns):\n",
      " #   Column        Non-Null Count  Dtype  \n",
      "---  ------        --------------  -----  \n",
      " 0   BuildingType  1000 non-null   object \n",
      " 1   Location      1000 non-null   object \n",
      " 2   Size          1000 non-null   object \n",
      " 3   AreaSqFt      1000 non-null   float64\n",
      " 4   NoOfBath      1000 non-null   int64  \n",
      " 5   NoOfPeople    1000 non-null   int64  \n",
      " 6   NoOfBalcony   1000 non-null   int64  \n",
      " 7   RentPerMonth  1000 non-null   float64\n",
      "dtypes: float64(2), int64(3), object(3)\n",
      "memory usage: 62.6+ KB\n"
     ]
    }
   ],
   "source": [
    "# getting information about the dataset\n",
    "\n",
    "df.info()"
   ]
  },
  {
   "cell_type": "code",
   "execution_count": 5,
   "metadata": {},
   "outputs": [
    {
     "data": {
      "text/html": [
       "<div>\n",
       "<style scoped>\n",
       "    .dataframe tbody tr th:only-of-type {\n",
       "        vertical-align: middle;\n",
       "    }\n",
       "\n",
       "    .dataframe tbody tr th {\n",
       "        vertical-align: top;\n",
       "    }\n",
       "\n",
       "    .dataframe thead th {\n",
       "        text-align: right;\n",
       "    }\n",
       "</style>\n",
       "<table border=\"1\" class=\"dataframe\">\n",
       "  <thead>\n",
       "    <tr style=\"text-align: right;\">\n",
       "      <th></th>\n",
       "      <th>AreaSqFt</th>\n",
       "      <th>NoOfBath</th>\n",
       "      <th>NoOfPeople</th>\n",
       "      <th>NoOfBalcony</th>\n",
       "      <th>RentPerMonth</th>\n",
       "    </tr>\n",
       "  </thead>\n",
       "  <tbody>\n",
       "    <tr>\n",
       "      <th>count</th>\n",
       "      <td>1000.000000</td>\n",
       "      <td>1000.000000</td>\n",
       "      <td>1000.000000</td>\n",
       "      <td>1000.000000</td>\n",
       "      <td>1000.000000</td>\n",
       "    </tr>\n",
       "    <tr>\n",
       "      <th>mean</th>\n",
       "      <td>1548.270010</td>\n",
       "      <td>2.661000</td>\n",
       "      <td>2.168000</td>\n",
       "      <td>1.544000</td>\n",
       "      <td>10476.633500</td>\n",
       "    </tr>\n",
       "    <tr>\n",
       "      <th>std</th>\n",
       "      <td>1345.141175</td>\n",
       "      <td>1.247251</td>\n",
       "      <td>0.959529</td>\n",
       "      <td>0.838312</td>\n",
       "      <td>10509.508971</td>\n",
       "    </tr>\n",
       "    <tr>\n",
       "      <th>min</th>\n",
       "      <td>375.000000</td>\n",
       "      <td>1.000000</td>\n",
       "      <td>1.000000</td>\n",
       "      <td>0.000000</td>\n",
       "      <td>1100.000000</td>\n",
       "    </tr>\n",
       "    <tr>\n",
       "      <th>25%</th>\n",
       "      <td>1090.000000</td>\n",
       "      <td>2.000000</td>\n",
       "      <td>2.000000</td>\n",
       "      <td>1.000000</td>\n",
       "      <td>4890.500000</td>\n",
       "    </tr>\n",
       "    <tr>\n",
       "      <th>50%</th>\n",
       "      <td>1270.000000</td>\n",
       "      <td>2.000000</td>\n",
       "      <td>2.000000</td>\n",
       "      <td>2.000000</td>\n",
       "      <td>7000.000000</td>\n",
       "    </tr>\n",
       "    <tr>\n",
       "      <th>75%</th>\n",
       "      <td>1664.250000</td>\n",
       "      <td>3.000000</td>\n",
       "      <td>2.000000</td>\n",
       "      <td>2.000000</td>\n",
       "      <td>11925.000000</td>\n",
       "    </tr>\n",
       "    <tr>\n",
       "      <th>max</th>\n",
       "      <td>35000.000000</td>\n",
       "      <td>11.000000</td>\n",
       "      <td>6.000000</td>\n",
       "      <td>3.000000</td>\n",
       "      <td>96000.000000</td>\n",
       "    </tr>\n",
       "  </tbody>\n",
       "</table>\n",
       "</div>"
      ],
      "text/plain": [
       "           AreaSqFt     NoOfBath   NoOfPeople  NoOfBalcony  RentPerMonth\n",
       "count   1000.000000  1000.000000  1000.000000  1000.000000   1000.000000\n",
       "mean    1548.270010     2.661000     2.168000     1.544000  10476.633500\n",
       "std     1345.141175     1.247251     0.959529     0.838312  10509.508971\n",
       "min      375.000000     1.000000     1.000000     0.000000   1100.000000\n",
       "25%     1090.000000     2.000000     2.000000     1.000000   4890.500000\n",
       "50%     1270.000000     2.000000     2.000000     2.000000   7000.000000\n",
       "75%     1664.250000     3.000000     2.000000     2.000000  11925.000000\n",
       "max    35000.000000    11.000000     6.000000     3.000000  96000.000000"
      ]
     },
     "execution_count": 5,
     "metadata": {},
     "output_type": "execute_result"
    }
   ],
   "source": [
    "# getting summary of the numerical features\n",
    "\n",
    "df.describe()"
   ]
  },
  {
   "cell_type": "code",
   "execution_count": 6,
   "metadata": {},
   "outputs": [
    {
     "data": {
      "text/plain": [
       "BuildingType    0\n",
       "Location        0\n",
       "Size            0\n",
       "AreaSqFt        0\n",
       "NoOfBath        0\n",
       "NoOfPeople      0\n",
       "NoOfBalcony     0\n",
       "RentPerMonth    0\n",
       "dtype: int64"
      ]
     },
     "execution_count": 6,
     "metadata": {},
     "output_type": "execute_result"
    }
   ],
   "source": [
    "# checking for null values\n",
    "\n",
    "df.isnull( ).sum( )"
   ]
  },
  {
   "cell_type": "code",
   "execution_count": 7,
   "metadata": {},
   "outputs": [
    {
     "data": {
      "text/plain": [
       "BuildingType     10\n",
       "Location         11\n",
       "Size             10\n",
       "AreaSqFt        495\n",
       "NoOfBath         10\n",
       "NoOfPeople        6\n",
       "NoOfBalcony       4\n",
       "RentPerMonth    387\n",
       "dtype: int64"
      ]
     },
     "execution_count": 7,
     "metadata": {},
     "output_type": "execute_result"
    }
   ],
   "source": [
    "# counting unique values\n",
    "\n",
    "df.nunique()"
   ]
  },
  {
   "cell_type": "code",
   "execution_count": 8,
   "metadata": {},
   "outputs": [
    {
     "name": "stdout",
     "output_type": "stream",
     "text": [
      "COLUMNS: \n",
      "\n",
      "BuildingType\n",
      "Location\n",
      "Size\n",
      "AreaSqFt\n",
      "NoOfBath\n",
      "NoOfPeople\n",
      "NoOfBalcony\n",
      "RentPerMonth\n"
     ]
    }
   ],
   "source": [
    "# coulumns of the datasets\n",
    "\n",
    "print(\"COLUMNS: \")\n",
    "print()\n",
    "\n",
    "for i in range(len(df.columns)):\n",
    "    print(df.columns[i])"
   ]
  },
  {
   "cell_type": "code",
   "execution_count": 9,
   "metadata": {
    "scrolled": false
   },
   "outputs": [
    {
     "data": {
      "text/html": [
       "<div>\n",
       "<style scoped>\n",
       "    .dataframe tbody tr th:only-of-type {\n",
       "        vertical-align: middle;\n",
       "    }\n",
       "\n",
       "    .dataframe tbody tr th {\n",
       "        vertical-align: top;\n",
       "    }\n",
       "\n",
       "    .dataframe thead th {\n",
       "        text-align: right;\n",
       "    }\n",
       "</style>\n",
       "<table border=\"1\" class=\"dataframe\">\n",
       "  <thead>\n",
       "    <tr style=\"text-align: right;\">\n",
       "      <th></th>\n",
       "      <th>AreaSqFt</th>\n",
       "      <th>NoOfBath</th>\n",
       "      <th>NoOfPeople</th>\n",
       "      <th>NoOfBalcony</th>\n",
       "      <th>RentPerMonth</th>\n",
       "    </tr>\n",
       "  </thead>\n",
       "  <tbody>\n",
       "    <tr>\n",
       "      <th>AreaSqFt</th>\n",
       "      <td>1.000000</td>\n",
       "      <td>0.375791</td>\n",
       "      <td>0.374907</td>\n",
       "      <td>0.206123</td>\n",
       "      <td>0.473022</td>\n",
       "    </tr>\n",
       "    <tr>\n",
       "      <th>NoOfBath</th>\n",
       "      <td>0.375791</td>\n",
       "      <td>1.000000</td>\n",
       "      <td>0.480063</td>\n",
       "      <td>0.258885</td>\n",
       "      <td>0.579693</td>\n",
       "    </tr>\n",
       "    <tr>\n",
       "      <th>NoOfPeople</th>\n",
       "      <td>0.374907</td>\n",
       "      <td>0.480063</td>\n",
       "      <td>1.000000</td>\n",
       "      <td>0.184932</td>\n",
       "      <td>0.782853</td>\n",
       "    </tr>\n",
       "    <tr>\n",
       "      <th>NoOfBalcony</th>\n",
       "      <td>0.206123</td>\n",
       "      <td>0.258885</td>\n",
       "      <td>0.184932</td>\n",
       "      <td>1.000000</td>\n",
       "      <td>0.193619</td>\n",
       "    </tr>\n",
       "    <tr>\n",
       "      <th>RentPerMonth</th>\n",
       "      <td>0.473022</td>\n",
       "      <td>0.579693</td>\n",
       "      <td>0.782853</td>\n",
       "      <td>0.193619</td>\n",
       "      <td>1.000000</td>\n",
       "    </tr>\n",
       "  </tbody>\n",
       "</table>\n",
       "</div>"
      ],
      "text/plain": [
       "              AreaSqFt  NoOfBath  NoOfPeople  NoOfBalcony  RentPerMonth\n",
       "AreaSqFt      1.000000  0.375791    0.374907     0.206123      0.473022\n",
       "NoOfBath      0.375791  1.000000    0.480063     0.258885      0.579693\n",
       "NoOfPeople    0.374907  0.480063    1.000000     0.184932      0.782853\n",
       "NoOfBalcony   0.206123  0.258885    0.184932     1.000000      0.193619\n",
       "RentPerMonth  0.473022  0.579693    0.782853     0.193619      1.000000"
      ]
     },
     "execution_count": 9,
     "metadata": {},
     "output_type": "execute_result"
    }
   ],
   "source": [
    "# correlation between columns\n",
    "\n",
    "df.corr()"
   ]
  },
  {
   "cell_type": "code",
   "execution_count": 10,
   "metadata": {},
   "outputs": [
    {
     "data": {
      "text/html": [
       "<div>\n",
       "<style scoped>\n",
       "    .dataframe tbody tr th:only-of-type {\n",
       "        vertical-align: middle;\n",
       "    }\n",
       "\n",
       "    .dataframe tbody tr th {\n",
       "        vertical-align: top;\n",
       "    }\n",
       "\n",
       "    .dataframe thead th {\n",
       "        text-align: right;\n",
       "    }\n",
       "</style>\n",
       "<table border=\"1\" class=\"dataframe\">\n",
       "  <thead>\n",
       "    <tr style=\"text-align: right;\">\n",
       "      <th></th>\n",
       "      <th></th>\n",
       "      <th>BuildingType</th>\n",
       "      <th>AreaSqFt</th>\n",
       "      <th>NoOfBath</th>\n",
       "      <th>NoOfPeople</th>\n",
       "      <th>NoOfBalcony</th>\n",
       "      <th>RentPerMonth</th>\n",
       "    </tr>\n",
       "    <tr>\n",
       "      <th>Size</th>\n",
       "      <th>Location</th>\n",
       "      <th></th>\n",
       "      <th></th>\n",
       "      <th></th>\n",
       "      <th></th>\n",
       "      <th></th>\n",
       "      <th></th>\n",
       "    </tr>\n",
       "  </thead>\n",
       "  <tbody>\n",
       "    <tr>\n",
       "      <th rowspan=\"5\" valign=\"top\">1 BHK</th>\n",
       "      <th>Clubview Road</th>\n",
       "      <td>10</td>\n",
       "      <td>10</td>\n",
       "      <td>10</td>\n",
       "      <td>10</td>\n",
       "      <td>10</td>\n",
       "      <td>10</td>\n",
       "    </tr>\n",
       "    <tr>\n",
       "      <th>Portofino A</th>\n",
       "      <td>10</td>\n",
       "      <td>10</td>\n",
       "      <td>10</td>\n",
       "      <td>10</td>\n",
       "      <td>10</td>\n",
       "      <td>10</td>\n",
       "    </tr>\n",
       "    <tr>\n",
       "      <th>Portofino B</th>\n",
       "      <td>4</td>\n",
       "      <td>4</td>\n",
       "      <td>4</td>\n",
       "      <td>4</td>\n",
       "      <td>4</td>\n",
       "      <td>4</td>\n",
       "    </tr>\n",
       "    <tr>\n",
       "      <th>Portofino C</th>\n",
       "      <td>3</td>\n",
       "      <td>3</td>\n",
       "      <td>3</td>\n",
       "      <td>3</td>\n",
       "      <td>3</td>\n",
       "      <td>3</td>\n",
       "    </tr>\n",
       "    <tr>\n",
       "      <th>Portofino D</th>\n",
       "      <td>3</td>\n",
       "      <td>3</td>\n",
       "      <td>3</td>\n",
       "      <td>3</td>\n",
       "      <td>3</td>\n",
       "      <td>3</td>\n",
       "    </tr>\n",
       "    <tr>\n",
       "      <th>...</th>\n",
       "      <th>...</th>\n",
       "      <td>...</td>\n",
       "      <td>...</td>\n",
       "      <td>...</td>\n",
       "      <td>...</td>\n",
       "      <td>...</td>\n",
       "      <td>...</td>\n",
       "    </tr>\n",
       "    <tr>\n",
       "      <th>8 BHK</th>\n",
       "      <th>School Street</th>\n",
       "      <td>3</td>\n",
       "      <td>3</td>\n",
       "      <td>3</td>\n",
       "      <td>3</td>\n",
       "      <td>3</td>\n",
       "      <td>3</td>\n",
       "    </tr>\n",
       "    <tr>\n",
       "      <th rowspan=\"4\" valign=\"top\">9 BHK</th>\n",
       "      <th>Portofino B</th>\n",
       "      <td>1</td>\n",
       "      <td>1</td>\n",
       "      <td>1</td>\n",
       "      <td>1</td>\n",
       "      <td>1</td>\n",
       "      <td>1</td>\n",
       "    </tr>\n",
       "    <tr>\n",
       "      <th>Portofino C</th>\n",
       "      <td>1</td>\n",
       "      <td>1</td>\n",
       "      <td>1</td>\n",
       "      <td>1</td>\n",
       "      <td>1</td>\n",
       "      <td>1</td>\n",
       "    </tr>\n",
       "    <tr>\n",
       "      <th>Portofino F</th>\n",
       "      <td>1</td>\n",
       "      <td>1</td>\n",
       "      <td>1</td>\n",
       "      <td>1</td>\n",
       "      <td>1</td>\n",
       "      <td>1</td>\n",
       "    </tr>\n",
       "    <tr>\n",
       "      <th>Portofino H</th>\n",
       "      <td>1</td>\n",
       "      <td>1</td>\n",
       "      <td>1</td>\n",
       "      <td>1</td>\n",
       "      <td>1</td>\n",
       "      <td>1</td>\n",
       "    </tr>\n",
       "  </tbody>\n",
       "</table>\n",
       "<p>69 rows × 6 columns</p>\n",
       "</div>"
      ],
      "text/plain": [
       "                     BuildingType  AreaSqFt  NoOfBath  NoOfPeople  \\\n",
       "Size  Location                                                      \n",
       "1 BHK Clubview Road            10        10        10          10   \n",
       "      Portofino A              10        10        10          10   \n",
       "      Portofino B               4         4         4           4   \n",
       "      Portofino C               3         3         3           3   \n",
       "      Portofino D               3         3         3           3   \n",
       "...                           ...       ...       ...         ...   \n",
       "8 BHK School Street             3         3         3           3   \n",
       "9 BHK Portofino B               1         1         1           1   \n",
       "      Portofino C               1         1         1           1   \n",
       "      Portofino F               1         1         1           1   \n",
       "      Portofino H               1         1         1           1   \n",
       "\n",
       "                     NoOfBalcony  RentPerMonth  \n",
       "Size  Location                                  \n",
       "1 BHK Clubview Road           10            10  \n",
       "      Portofino A             10            10  \n",
       "      Portofino B              4             4  \n",
       "      Portofino C              3             3  \n",
       "      Portofino D              3             3  \n",
       "...                          ...           ...  \n",
       "8 BHK School Street            3             3  \n",
       "9 BHK Portofino B              1             1  \n",
       "      Portofino C              1             1  \n",
       "      Portofino F              1             1  \n",
       "      Portofino H              1             1  \n",
       "\n",
       "[69 rows x 6 columns]"
      ]
     },
     "execution_count": 10,
     "metadata": {},
     "output_type": "execute_result"
    }
   ],
   "source": [
    "# grouping upon size of house and location \n",
    "\n",
    "df.groupby([\"Size\",\"Location\"]).count()"
   ]
  },
  {
   "cell_type": "code",
   "execution_count": 11,
   "metadata": {},
   "outputs": [
    {
     "data": {
      "image/png": "[encoded data removed]",
      "text/plain": [
       "<Figure size 432x288 with 1 Axes>"
      ]
     },
     "metadata": {
      "needs_background": "light"
     },
     "output_type": "display_data"
    }
   ],
   "source": [
    "# Scatterplot\n",
    "\n",
    "ax = sns.scatterplot(x= df['AreaSqFt'],y= df['RentPerMonth'],hue= df['BuildingType']);\n",
    "plt.legend(bbox_to_anchor=(1.02, 1), loc='upper left', borderaxespad=0);\n",
    "ax.set_xlim(1,6000);"
   ]
  },
  {
   "cell_type": "markdown",
   "metadata": {},
   "source": [
    "----------------------------\n",
    "From this scatterplot, we see that most of the data points are concentrated betweeen the range of 3000 sqft in case of Area SqFt and rent in the range of 40 thousand.\n",
    "\n",
    "------------------------------"
   ]
  },
  {
   "cell_type": "code",
   "execution_count": 12,
   "metadata": {},
   "outputs": [
    {
     "name": "stderr",
     "output_type": "stream",
     "text": [
      "C:\\Users\\avgee\\anaconda3\\lib\\site-packages\\seaborn\\_decorators.py:36: FutureWarning: Pass the following variable as a keyword arg: x. From version 0.12, the only valid positional argument will be `data`, and passing other arguments without an explicit keyword will result in an error or misinterpretation.\n",
      "  warnings.warn(\n"
     ]
    },
    {
     "data": {
      "image/png": "[encoded data removed]",
      "text/plain": [
       "<Figure size 432x288 with 1 Axes>"
      ]
     },
     "metadata": {
      "needs_background": "light"
     },
     "output_type": "display_data"
    }
   ],
   "source": [
    "sns.countplot(df['NoOfBalcony']);"
   ]
  },
  {
   "cell_type": "markdown",
   "metadata": {},
   "source": [
    "---------------------------\n",
    "This countplot tells us that most number of houses(approx 400) have 2 balconies and there are 100 houses having no balcony.\n",
    "Around 150 houses have 3 balconies.\n",
    "\n",
    "----------------------------------------------------------"
   ]
  },
  {
   "cell_type": "code",
   "execution_count": 13,
   "metadata": {
    "scrolled": false
   },
   "outputs": [
    {
     "name": "stderr",
     "output_type": "stream",
     "text": [
      "C:\\Users\\avgee\\anaconda3\\lib\\site-packages\\seaborn\\_decorators.py:36: FutureWarning: Pass the following variable as a keyword arg: x. From version 0.12, the only valid positional argument will be `data`, and passing other arguments without an explicit keyword will result in an error or misinterpretation.\n",
      "  warnings.warn(\n"
     ]
    },
    {
     "data": {
      "image/png": "[encoded data removed]",
      "text/plain": [
       "<Figure size 432x288 with 1 Axes>"
      ]
     },
     "metadata": {
      "needs_background": "light"
     },
     "output_type": "display_data"
    }
   ],
   "source": [
    "plt.xticks(rotation=90)\n",
    "sns.countplot(df['Location']);"
   ]
  },
  {
   "cell_type": "markdown",
   "metadata": {},
   "source": [
    "---------------------------\n",
    "From this plot, we can infer that most number of houses(around 225) are present in Clubview Road and least homes are there in Starter Homes\n",
    "\n",
    "----------------------------"
   ]
  },
  {
   "cell_type": "code",
   "execution_count": 75,
   "metadata": {},
   "outputs": [
    {
     "data": {
      "application/vnd.plotly.v1+json": {
       "config": {
        "plotlyServerURL": "https://plot.ly"
       },
       "data": [
        {
         "customdata": [
          [
           0.274
          ],
          [
           0.246
          ],
          [
           0.153
          ],
          [
           0.146
          ],
          [
           0.063
          ],
          [
           0.041
          ],
          [
           0.025
          ],
          [
           0.021
          ],
          [
           0.019
          ],
          [
           0.012
          ]
         ],
         "domain": {
          "x": [
           0,
           1
          ],
          "y": [
           0,
           1
          ]
         },
         "hovertemplate": "BuildingType=%{label}<br>Percent=%{customdata[0]}<extra></extra>",
         "labels": [
          "Semi Furnished Single Room",
          "Semi Furnished Flat",
          "Fully Furnished Single Room",
          "Minimum Budget Rooms",
          "Semi Furnished Villa",
          "Fully Furnished Flat",
          "Super Furnished Single Room",
          "Super Furnished Villa",
          "Fully Furnished Villa",
          "Super Furnished Flat"
         ],
         "legendgroup": "",
         "marker": {
          "colors": [
           "gold",
           "mediumturquoise",
           "darkorange",
           "lightgreen"
          ],
          "line": {
           "color": "#000000",
           "width": 2
          }
         },
         "name": "",
         "showlegend": true,
         "textfont": {
          "size": 20
         },
         "type": "pie",
         "values": [
          0.274,
          0.246,
          0.153,
          0.146,
          0.063,
          0.041,
          0.025,
          0.021,
          0.019,
          0.012
         ]
        }
       ],
       "layout": {
        "legend": {
         "tracegroupgap": 0
        },
        "template": {
         "data": {
          "bar": [
           {
            "error_x": {
             "color": "#2a3f5f"
            },
            "error_y": {
             "color": "#2a3f5f"
            },
            "marker": {
             "line": {
              "color": "#E5ECF6",
              "width": 0.5
             },
             "pattern": {
              "fillmode": "overlay",
              "size": 10,
              "solidity": 0.2
             }
            },
            "type": "bar"
           }
          ],
          "barpolar": [
           {
            "marker": {
             "line": {
              "color": "#E5ECF6",
              "width": 0.5
             },
             "pattern": {
              "fillmode": "overlay",
              "size": 10,
              "solidity": 0.2
             }
            },
            "type": "barpolar"
           }
          ],
          "carpet": [
           {
            "aaxis": {
             "endlinecolor": "#2a3f5f",
             "gridcolor": "white",
             "linecolor": "white",
             "minorgridcolor": "white",
             "startlinecolor": "#2a3f5f"
            },
            "baxis": {
             "endlinecolor": "#2a3f5f",
             "gridcolor": "white",
             "linecolor": "white",
             "minorgridcolor": "white",
             "startlinecolor": "#2a3f5f"
            },
            "type": "carpet"
           }
          ],
          "choropleth": [
           {
            "colorbar": {
             "outlinewidth": 0,
             "ticks": ""
            },
            "type": "choropleth"
           }
          ],
          "contour": [
           {
            "colorbar": {
             "outlinewidth": 0,
             "ticks": ""
            },
            "colorscale": [
             [
              0,
              "#0d0887"
             ],
             [
              0.1111111111111111,
              "#46039f"
             ],
             [
              0.2222222222222222,
              "#7201a8"
             ],
             [
              0.3333333333333333,
              "#9c179e"
             ],
             [
              0.4444444444444444,
              "#bd3786"
             ],
             [
              0.5555555555555556,
              "#d8576b"
             ],
             [
              0.6666666666666666,
              "#ed7953"
             ],
             [
              0.7777777777777778,
              "#fb9f3a"
             ],
             [
              0.8888888888888888,
              "#fdca26"
             ],
             [
              1,
              "#f0f921"
             ]
            ],
            "type": "contour"
           }
          ],
          "contourcarpet": [
           {
            "colorbar": {
             "outlinewidth": 0,
             "ticks": ""
            },
            "type": "contourcarpet"
           }
          ],
          "heatmap": [
           {
            "colorbar": {
             "outlinewidth": 0,
             "ticks": ""
            },
            "colorscale": [
             [
              0,
              "#0d0887"
             ],
             [
              0.1111111111111111,
              "#46039f"
             ],
             [
              0.2222222222222222,
              "#7201a8"
             ],
             [
              0.3333333333333333,
              "#9c179e"
             ],
             [
              0.4444444444444444,
              "#bd3786"
             ],
             [
              0.5555555555555556,
              "#d8576b"
             ],
             [
              0.6666666666666666,
              "#ed7953"
             ],
             [
              0.7777777777777778,
              "#fb9f3a"
             ],
             [
              0.8888888888888888,
              "#fdca26"
             ],
             [
              1,
              "#f0f921"
             ]
            ],
            "type": "heatmap"
           }
          ],
          "heatmapgl": [
           {
            "colorbar": {
             "outlinewidth": 0,
             "ticks": ""
            },
            "colorscale": [
             [
              0,
              "#0d0887"
             ],
             [
              0.1111111111111111,
              "#46039f"
             ],
             [
              0.2222222222222222,
              "#7201a8"
             ],
             [
              0.3333333333333333,
              "#9c179e"
             ],
             [
              0.4444444444444444,
              "#bd3786"
             ],
             [
              0.5555555555555556,
              "#d8576b"
             ],
             [
              0.6666666666666666,
              "#ed7953"
             ],
             [
              0.7777777777777778,
              "#fb9f3a"
             ],
             [
              0.8888888888888888,
              "#fdca26"
             ],
             [
              1,
              "#f0f921"
             ]
            ],
            "type": "heatmapgl"
           }
          ],
          "histogram": [
           {
            "marker": {
             "pattern": {
              "fillmode": "overlay",
              "size": 10,
              "solidity": 0.2
             }
            },
            "type": "histogram"
           }
          ],
          "histogram2d": [
           {
            "colorbar": {
             "outlinewidth": 0,
             "ticks": ""
            },
            "colorscale": [
             [
              0,
              "#0d0887"
             ],
             [
              0.1111111111111111,
              "#46039f"
             ],
             [
              0.2222222222222222,
              "#7201a8"
             ],
             [
              0.3333333333333333,
              "#9c179e"
             ],
             [
              0.4444444444444444,
              "#bd3786"
             ],
             [
              0.5555555555555556,
              "#d8576b"
             ],
             [
              0.6666666666666666,
              "#ed7953"
             ],
             [
              0.7777777777777778,
              "#fb9f3a"
             ],
             [
              0.8888888888888888,
              "#fdca26"
             ],
             [
              1,
              "#f0f921"
             ]
            ],
            "type": "histogram2d"
           }
          ],
          "histogram2dcontour": [
           {
            "colorbar": {
             "outlinewidth": 0,
             "ticks": ""
            },
            "colorscale": [
             [
              0,
              "#0d0887"
             ],
             [
              0.1111111111111111,
              "#46039f"
             ],
             [
              0.2222222222222222,
              "#7201a8"
             ],
             [
              0.3333333333333333,
              "#9c179e"
             ],
             [
              0.4444444444444444,
              "#bd3786"
             ],
             [
              0.5555555555555556,
              "#d8576b"
             ],
             [
              0.6666666666666666,
              "#ed7953"
             ],
             [
              0.7777777777777778,
              "#fb9f3a"
             ],
             [
              0.8888888888888888,
              "#fdca26"
             ],
             [
              1,
              "#f0f921"
             ]
            ],
            "type": "histogram2dcontour"
           }
          ],
          "mesh3d": [
           {
            "colorbar": {
             "outlinewidth": 0,
             "ticks": ""
            },
            "type": "mesh3d"
           }
          ],
          "parcoords": [
           {
            "line": {
             "colorbar": {
              "outlinewidth": 0,
              "ticks": ""
             }
            },
            "type": "parcoords"
           }
          ],
          "pie": [
           {
            "automargin": true,
            "type": "pie"
           }
          ],
          "scatter": [
           {
            "marker": {
             "colorbar": {
              "outlinewidth": 0,
              "ticks": ""
             }
            },
            "type": "scatter"
           }
          ],
          "scatter3d": [
           {
            "line": {
             "colorbar": {
              "outlinewidth": 0,
              "ticks": ""
             }
            },
            "marker": {
             "colorbar": {
              "outlinewidth": 0,
              "ticks": ""
             }
            },
            "type": "scatter3d"
           }
          ],
          "scattercarpet": [
           {
            "marker": {
             "colorbar": {
              "outlinewidth": 0,
              "ticks": ""
             }
            },
            "type": "scattercarpet"
           }
          ],
          "scattergeo": [
           {
            "marker": {
             "colorbar": {
              "outlinewidth": 0,
              "ticks": ""
             }
            },
            "type": "scattergeo"
           }
          ],
          "scattergl": [
           {
            "marker": {
             "colorbar": {
              "outlinewidth": 0,
              "ticks": ""
             }
            },
            "type": "scattergl"
           }
          ],
          "scattermapbox": [
           {
            "marker": {
             "colorbar": {
              "outlinewidth": 0,
              "ticks": ""
             }
            },
            "type": "scattermapbox"
           }
          ],
          "scatterpolar": [
           {
            "marker": {
             "colorbar": {
              "outlinewidth": 0,
              "ticks": ""
             }
            },
            "type": "scatterpolar"
           }
          ],
          "scatterpolargl": [
           {
            "marker": {
             "colorbar": {
              "outlinewidth": 0,
              "ticks": ""
             }
            },
            "type": "scatterpolargl"
           }
          ],
          "scatterternary": [
           {
            "marker": {
             "colorbar": {
              "outlinewidth": 0,
              "ticks": ""
             }
            },
            "type": "scatterternary"
           }
          ],
          "surface": [
           {
            "colorbar": {
             "outlinewidth": 0,
             "ticks": ""
            },
            "colorscale": [
             [
              0,
              "#0d0887"
             ],
             [
              0.1111111111111111,
              "#46039f"
             ],
             [
              0.2222222222222222,
              "#7201a8"
             ],
             [
              0.3333333333333333,
              "#9c179e"
             ],
             [
              0.4444444444444444,
              "#bd3786"
             ],
             [
              0.5555555555555556,
              "#d8576b"
             ],
             [
              0.6666666666666666,
              "#ed7953"
             ],
             [
              0.7777777777777778,
              "#fb9f3a"
             ],
             [
              0.8888888888888888,
              "#fdca26"
             ],
             [
              1,
              "#f0f921"
             ]
            ],
            "type": "surface"
           }
          ],
          "table": [
           {
            "cells": {
             "fill": {
              "color": "#EBF0F8"
             },
             "line": {
              "color": "white"
             }
            },
            "header": {
             "fill": {
              "color": "#C8D4E3"
             },
             "line": {
              "color": "white"
             }
            },
            "type": "table"
           }
          ]
         },
         "layout": {
          "annotationdefaults": {
           "arrowcolor": "#2a3f5f",
           "arrowhead": 0,
           "arrowwidth": 1
          },
          "autotypenumbers": "strict",
          "coloraxis": {
           "colorbar": {
            "outlinewidth": 0,
            "ticks": ""
           }
          },
          "colorscale": {
           "diverging": [
            [
             0,
             "#8e0152"
            ],
            [
             0.1,
             "#c51b7d"
            ],
            [
             0.2,
             "#de77ae"
            ],
            [
             0.3,
             "#f1b6da"
            ],
            [
             0.4,
             "#fde0ef"
            ],
            [
             0.5,
             "#f7f7f7"
            ],
            [
             0.6,
             "#e6f5d0"
            ],
            [
             0.7,
             "#b8e186"
            ],
            [
             0.8,
             "#7fbc41"
            ],
            [
             0.9,
             "#4d9221"
            ],
            [
             1,
             "#276419"
            ]
           ],
           "sequential": [
            [
             0,
             "#0d0887"
            ],
            [
             0.1111111111111111,
             "#46039f"
            ],
            [
             0.2222222222222222,
             "#7201a8"
            ],
            [
             0.3333333333333333,
             "#9c179e"
            ],
            [
             0.4444444444444444,
             "#bd3786"
            ],
            [
             0.5555555555555556,
             "#d8576b"
            ],
            [
             0.6666666666666666,
             "#ed7953"
            ],
            [
             0.7777777777777778,
             "#fb9f3a"
            ],
            [
             0.8888888888888888,
             "#fdca26"
            ],
            [
             1,
             "#f0f921"
            ]
           ],
           "sequentialminus": [
            [
             0,
             "#0d0887"
            ],
            [
             0.1111111111111111,
             "#46039f"
            ],
            [
             0.2222222222222222,
             "#7201a8"
            ],
            [
             0.3333333333333333,
             "#9c179e"
            ],
            [
             0.4444444444444444,
             "#bd3786"
            ],
            [
             0.5555555555555556,
             "#d8576b"
            ],
            [
             0.6666666666666666,
             "#ed7953"
            ],
            [
             0.7777777777777778,
             "#fb9f3a"
            ],
            [
             0.8888888888888888,
             "#fdca26"
            ],
            [
             1,
             "#f0f921"
            ]
           ]
          },
          "colorway": [
           "#636efa",
           "#EF553B",
           "#00cc96",
           "#ab63fa",
           "#FFA15A",
           "#19d3f3",
           "#FF6692",
           "#B6E880",
           "#FF97FF",
           "#FECB52"
          ],
          "font": {
           "color": "#2a3f5f"
          },
          "geo": {
           "bgcolor": "white",
           "lakecolor": "white",
           "landcolor": "#E5ECF6",
           "showlakes": true,
           "showland": true,
           "subunitcolor": "white"
          },
          "hoverlabel": {
           "align": "left"
          },
          "hovermode": "closest",
          "mapbox": {
           "style": "light"
          },
          "paper_bgcolor": "white",
          "plot_bgcolor": "#E5ECF6",
          "polar": {
           "angularaxis": {
            "gridcolor": "white",
            "linecolor": "white",
            "ticks": ""
           },
           "bgcolor": "#E5ECF6",
           "radialaxis": {
            "gridcolor": "white",
            "linecolor": "white",
            "ticks": ""
           }
          },
          "scene": {
           "xaxis": {
            "backgroundcolor": "#E5ECF6",
            "gridcolor": "white",
            "gridwidth": 2,
            "linecolor": "white",
            "showbackground": true,
            "ticks": "",
            "zerolinecolor": "white"
           },
           "yaxis": {
            "backgroundcolor": "#E5ECF6",
            "gridcolor": "white",
            "gridwidth": 2,
            "linecolor": "white",
            "showbackground": true,
            "ticks": "",
            "zerolinecolor": "white"
           },
           "zaxis": {
            "backgroundcolor": "#E5ECF6",
            "gridcolor": "white",
            "gridwidth": 2,
            "linecolor": "white",
            "showbackground": true,
            "ticks": "",
            "zerolinecolor": "white"
           }
          },
          "shapedefaults": {
           "line": {
            "color": "#2a3f5f"
           }
          },
          "ternary": {
           "aaxis": {
            "gridcolor": "white",
            "linecolor": "white",
            "ticks": ""
           },
           "baxis": {
            "gridcolor": "white",
            "linecolor": "white",
            "ticks": ""
           },
           "bgcolor": "#E5ECF6",
           "caxis": {
            "gridcolor": "white",
            "linecolor": "white",
            "ticks": ""
           }
          },
          "title": {
           "x": 0.05
          },
          "xaxis": {
           "automargin": true,
           "gridcolor": "white",
           "linecolor": "white",
           "ticks": "",
           "title": {
            "standoff": 15
           },
           "zerolinecolor": "white",
           "zerolinewidth": 2
          },
          "yaxis": {
           "automargin": true,
           "gridcolor": "white",
           "linecolor": "white",
           "ticks": "",
           "title": {
            "standoff": 15
           },
           "zerolinecolor": "white",
           "zerolinewidth": 2
          }
         }
        },
        "title": {
         "text": "Type of Building"
        }
       }
      },
      "text/html": [
       "<div>                            <div id=\"3cbaac8d-c02e-4801-aa6a-05db6196e22a\" class=\"plotly-graph-div\" style=\"height:525px; width:100%;\"></div>            <script type=\"text/javascript\">                require([\"plotly\"], function(Plotly) {                    window.PLOTLYENV=window.PLOTLYENV || {};                                    if (document.getElementById(\"3cbaac8d-c02e-4801-aa6a-05db6196e22a\")) {                    Plotly.newPlot(                        \"3cbaac8d-c02e-4801-aa6a-05db6196e22a\",                        [{\"customdata\":[[0.274],[0.246],[0.153],[0.146],[0.063],[0.041],[0.025],[0.021],[0.019],[0.012]],\"domain\":{\"x\":[0.0,1.0],\"y\":[0.0,1.0]},\"hovertemplate\":\"BuildingType=%{label}<br>Percent=%{customdata[0]}<extra></extra>\",\"labels\":[\"Semi Furnished Single Room\",\"Semi Furnished Flat\",\"Fully Furnished Single Room\",\"Minimum Budget Rooms\",\"Semi Furnished Villa\",\"Fully Furnished Flat\",\"Super Furnished Single Room\",\"Super Furnished Villa\",\"Fully Furnished Villa\",\"Super Furnished Flat\"],\"legendgroup\":\"\",\"marker\":{\"colors\":[\"gold\",\"mediumturquoise\",\"darkorange\",\"lightgreen\"],\"line\":{\"color\":\"#000000\",\"width\":2}},\"name\":\"\",\"showlegend\":true,\"values\":[0.274,0.246,0.153,0.146,0.063,0.041,0.025,0.021,0.019,0.012],\"type\":\"pie\",\"textfont\":{\"size\":20}}],                        {\"template\":{\"data\":{\"bar\":[{\"error_x\":{\"color\":\"#2a3f5f\"},\"error_y\":{\"color\":\"#2a3f5f\"},\"marker\":{\"line\":{\"color\":\"#E5ECF6\",\"width\":0.5},\"pattern\":{\"fillmode\":\"overlay\",\"size\":10,\"solidity\":0.2}},\"type\":\"bar\"}],\"barpolar\":[{\"marker\":{\"line\":{\"color\":\"#E5ECF6\",\"width\":0.5},\"pattern\":{\"fillmode\":\"overlay\",\"size\":10,\"solidity\":0.2}},\"type\":\"barpolar\"}],\"carpet\":[{\"aaxis\":{\"endlinecolor\":\"#2a3f5f\",\"gridcolor\":\"white\",\"linecolor\":\"white\",\"minorgridcolor\":\"white\",\"startlinecolor\":\"#2a3f5f\"},\"baxis\":{\"endlinecolor\":\"#2a3f5f\",\"gridcolor\":\"white\",\"linecolor\":\"white\",\"minorgridcolor\":\"white\",\"startlinecolor\":\"#2a3f5f\"},\"type\":\"carpet\"}],\"choropleth\":[{\"colorbar\":{\"outlinewidth\":0,\"ticks\":\"\"},\"type\":\"choropleth\"}],\"contour\":[{\"colorbar\":{\"outlinewidth\":0,\"ticks\":\"\"},\"colorscale\":[[0.0,\"#0d0887\"],[0.1111111111111111,\"#46039f\"],[0.2222222222222222,\"#7201a8\"],[0.3333333333333333,\"#9c179e\"],[0.4444444444444444,\"#bd3786\"],[0.5555555555555556,\"#d8576b\"],[0.6666666666666666,\"#ed7953\"],[0.7777777777777778,\"#fb9f3a\"],[0.8888888888888888,\"#fdca26\"],[1.0,\"#f0f921\"]],\"type\":\"contour\"}],\"contourcarpet\":[{\"colorbar\":{\"outlinewidth\":0,\"ticks\":\"\"},\"type\":\"contourcarpet\"}],\"heatmap\":[{\"colorbar\":{\"outlinewidth\":0,\"ticks\":\"\"},\"colorscale\":[[0.0,\"#0d0887\"],[0.1111111111111111,\"#46039f\"],[0.2222222222222222,\"#7201a8\"],[0.3333333333333333,\"#9c179e\"],[0.4444444444444444,\"#bd3786\"],[0.5555555555555556,\"#d8576b\"],[0.6666666666666666,\"#ed7953\"],[0.7777777777777778,\"#fb9f3a\"],[0.8888888888888888,\"#fdca26\"],[1.0,\"#f0f921\"]],\"type\":\"heatmap\"}],\"heatmapgl\":[{\"colorbar\":{\"outlinewidth\":0,\"ticks\":\"\"},\"colorscale\":[[0.0,\"#0d0887\"],[0.1111111111111111,\"#46039f\"],[0.2222222222222222,\"#7201a8\"],[0.3333333333333333,\"#9c179e\"],[0.4444444444444444,\"#bd3786\"],[0.5555555555555556,\"#d8576b\"],[0.6666666666666666,\"#ed7953\"],[0.7777777777777778,\"#fb9f3a\"],[0.8888888888888888,\"#fdca26\"],[1.0,\"#f0f921\"]],\"type\":\"heatmapgl\"}],\"histogram\":[{\"marker\":{\"pattern\":{\"fillmode\":\"overlay\",\"size\":10,\"solidity\":0.2}},\"type\":\"histogram\"}],\"histogram2d\":[{\"colorbar\":{\"outlinewidth\":0,\"ticks\":\"\"},\"colorscale\":[[0.0,\"#0d0887\"],[0.1111111111111111,\"#46039f\"],[0.2222222222222222,\"#7201a8\"],[0.3333333333333333,\"#9c179e\"],[0.4444444444444444,\"#bd3786\"],[0.5555555555555556,\"#d8576b\"],[0.6666666666666666,\"#ed7953\"],[0.7777777777777778,\"#fb9f3a\"],[0.8888888888888888,\"#fdca26\"],[1.0,\"#f0f921\"]],\"type\":\"histogram2d\"}],\"histogram2dcontour\":[{\"colorbar\":{\"outlinewidth\":0,\"ticks\":\"\"},\"colorscale\":[[0.0,\"#0d0887\"],[0.1111111111111111,\"#46039f\"],[0.2222222222222222,\"#7201a8\"],[0.3333333333333333,\"#9c179e\"],[0.4444444444444444,\"#bd3786\"],[0.5555555555555556,\"#d8576b\"],[0.6666666666666666,\"#ed7953\"],[0.7777777777777778,\"#fb9f3a\"],[0.8888888888888888,\"#fdca26\"],[1.0,\"#f0f921\"]],\"type\":\"histogram2dcontour\"}],\"mesh3d\":[{\"colorbar\":{\"outlinewidth\":0,\"ticks\":\"\"},\"type\":\"mesh3d\"}],\"parcoords\":[{\"line\":{\"colorbar\":{\"outlinewidth\":0,\"ticks\":\"\"}},\"type\":\"parcoords\"}],\"pie\":[{\"automargin\":true,\"type\":\"pie\"}],\"scatter\":[{\"marker\":{\"colorbar\":{\"outlinewidth\":0,\"ticks\":\"\"}},\"type\":\"scatter\"}],\"scatter3d\":[{\"line\":{\"colorbar\":{\"outlinewidth\":0,\"ticks\":\"\"}},\"marker\":{\"colorbar\":{\"outlinewidth\":0,\"ticks\":\"\"}},\"type\":\"scatter3d\"}],\"scattercarpet\":[{\"marker\":{\"colorbar\":{\"outlinewidth\":0,\"ticks\":\"\"}},\"type\":\"scattercarpet\"}],\"scattergeo\":[{\"marker\":{\"colorbar\":{\"outlinewidth\":0,\"ticks\":\"\"}},\"type\":\"scattergeo\"}],\"scattergl\":[{\"marker\":{\"colorbar\":{\"outlinewidth\":0,\"ticks\":\"\"}},\"type\":\"scattergl\"}],\"scattermapbox\":[{\"marker\":{\"colorbar\":{\"outlinewidth\":0,\"ticks\":\"\"}},\"type\":\"scattermapbox\"}],\"scatterpolar\":[{\"marker\":{\"colorbar\":{\"outlinewidth\":0,\"ticks\":\"\"}},\"type\":\"scatterpolar\"}],\"scatterpolargl\":[{\"marker\":{\"colorbar\":{\"outlinewidth\":0,\"ticks\":\"\"}},\"type\":\"scatterpolargl\"}],\"scatterternary\":[{\"marker\":{\"colorbar\":{\"outlinewidth\":0,\"ticks\":\"\"}},\"type\":\"scatterternary\"}],\"surface\":[{\"colorbar\":{\"outlinewidth\":0,\"ticks\":\"\"},\"colorscale\":[[0.0,\"#0d0887\"],[0.1111111111111111,\"#46039f\"],[0.2222222222222222,\"#7201a8\"],[0.3333333333333333,\"#9c179e\"],[0.4444444444444444,\"#bd3786\"],[0.5555555555555556,\"#d8576b\"],[0.6666666666666666,\"#ed7953\"],[0.7777777777777778,\"#fb9f3a\"],[0.8888888888888888,\"#fdca26\"],[1.0,\"#f0f921\"]],\"type\":\"surface\"}],\"table\":[{\"cells\":{\"fill\":{\"color\":\"#EBF0F8\"},\"line\":{\"color\":\"white\"}},\"header\":{\"fill\":{\"color\":\"#C8D4E3\"},\"line\":{\"color\":\"white\"}},\"type\":\"table\"}]},\"layout\":{\"annotationdefaults\":{\"arrowcolor\":\"#2a3f5f\",\"arrowhead\":0,\"arrowwidth\":1},\"autotypenumbers\":\"strict\",\"coloraxis\":{\"colorbar\":{\"outlinewidth\":0,\"ticks\":\"\"}},\"colorscale\":{\"diverging\":[[0,\"#8e0152\"],[0.1,\"#c51b7d\"],[0.2,\"#de77ae\"],[0.3,\"#f1b6da\"],[0.4,\"#fde0ef\"],[0.5,\"#f7f7f7\"],[0.6,\"#e6f5d0\"],[0.7,\"#b8e186\"],[0.8,\"#7fbc41\"],[0.9,\"#4d9221\"],[1,\"#276419\"]],\"sequential\":[[0.0,\"#0d0887\"],[0.1111111111111111,\"#46039f\"],[0.2222222222222222,\"#7201a8\"],[0.3333333333333333,\"#9c179e\"],[0.4444444444444444,\"#bd3786\"],[0.5555555555555556,\"#d8576b\"],[0.6666666666666666,\"#ed7953\"],[0.7777777777777778,\"#fb9f3a\"],[0.8888888888888888,\"#fdca26\"],[1.0,\"#f0f921\"]],\"sequentialminus\":[[0.0,\"#0d0887\"],[0.1111111111111111,\"#46039f\"],[0.2222222222222222,\"#7201a8\"],[0.3333333333333333,\"#9c179e\"],[0.4444444444444444,\"#bd3786\"],[0.5555555555555556,\"#d8576b\"],[0.6666666666666666,\"#ed7953\"],[0.7777777777777778,\"#fb9f3a\"],[0.8888888888888888,\"#fdca26\"],[1.0,\"#f0f921\"]]},\"colorway\":[\"#636efa\",\"#EF553B\",\"#00cc96\",\"#ab63fa\",\"#FFA15A\",\"#19d3f3\",\"#FF6692\",\"#B6E880\",\"#FF97FF\",\"#FECB52\"],\"font\":{\"color\":\"#2a3f5f\"},\"geo\":{\"bgcolor\":\"white\",\"lakecolor\":\"white\",\"landcolor\":\"#E5ECF6\",\"showlakes\":true,\"showland\":true,\"subunitcolor\":\"white\"},\"hoverlabel\":{\"align\":\"left\"},\"hovermode\":\"closest\",\"mapbox\":{\"style\":\"light\"},\"paper_bgcolor\":\"white\",\"plot_bgcolor\":\"#E5ECF6\",\"polar\":{\"angularaxis\":{\"gridcolor\":\"white\",\"linecolor\":\"white\",\"ticks\":\"\"},\"bgcolor\":\"#E5ECF6\",\"radialaxis\":{\"gridcolor\":\"white\",\"linecolor\":\"white\",\"ticks\":\"\"}},\"scene\":{\"xaxis\":{\"backgroundcolor\":\"#E5ECF6\",\"gridcolor\":\"white\",\"gridwidth\":2,\"linecolor\":\"white\",\"showbackground\":true,\"ticks\":\"\",\"zerolinecolor\":\"white\"},\"yaxis\":{\"backgroundcolor\":\"#E5ECF6\",\"gridcolor\":\"white\",\"gridwidth\":2,\"linecolor\":\"white\",\"showbackground\":true,\"ticks\":\"\",\"zerolinecolor\":\"white\"},\"zaxis\":{\"backgroundcolor\":\"#E5ECF6\",\"gridcolor\":\"white\",\"gridwidth\":2,\"linecolor\":\"white\",\"showbackground\":true,\"ticks\":\"\",\"zerolinecolor\":\"white\"}},\"shapedefaults\":{\"line\":{\"color\":\"#2a3f5f\"}},\"ternary\":{\"aaxis\":{\"gridcolor\":\"white\",\"linecolor\":\"white\",\"ticks\":\"\"},\"baxis\":{\"gridcolor\":\"white\",\"linecolor\":\"white\",\"ticks\":\"\"},\"bgcolor\":\"#E5ECF6\",\"caxis\":{\"gridcolor\":\"white\",\"linecolor\":\"white\",\"ticks\":\"\"}},\"title\":{\"x\":0.05},\"xaxis\":{\"automargin\":true,\"gridcolor\":\"white\",\"linecolor\":\"white\",\"ticks\":\"\",\"title\":{\"standoff\":15},\"zerolinecolor\":\"white\",\"zerolinewidth\":2},\"yaxis\":{\"automargin\":true,\"gridcolor\":\"white\",\"linecolor\":\"white\",\"ticks\":\"\",\"title\":{\"standoff\":15},\"zerolinecolor\":\"white\",\"zerolinewidth\":2}}},\"legend\":{\"tracegroupgap\":0},\"title\":{\"text\":\"Type of Building\"}},                        {\"responsive\": true}                    ).then(function(){\n",
       "                            \n",
       "var gd = document.getElementById('3cbaac8d-c02e-4801-aa6a-05db6196e22a');\n",
       "var x = new MutationObserver(function (mutations, observer) {{\n",
       "        var display = window.getComputedStyle(gd).display;\n",
       "        if (!display || display === 'none') {{\n",
       "            console.log([gd, 'removed!']);\n",
       "            Plotly.purge(gd);\n",
       "            observer.disconnect();\n",
       "        }}\n",
       "}});\n",
       "\n",
       "// Listen for the removal of the full notebook cells\n",
       "var notebookContainer = gd.closest('#notebook-container');\n",
       "if (notebookContainer) {{\n",
       "    x.observe(notebookContainer, {childList: true});\n",
       "}}\n",
       "\n",
       "// Listen for the clearing of the current output cell\n",
       "var outputEl = gd.closest('.output');\n",
       "if (outputEl) {{\n",
       "    x.observe(outputEl, {childList: true});\n",
       "}}\n",
       "\n",
       "                        })                };                });            </script>        </div>"
      ]
     },
     "metadata": {},
     "output_type": "display_data"
    }
   ],
   "source": [
    "Pie = df['BuildingType'].value_counts().reset_index()\n",
    "Pie.columns = ['BuildingType','Percent']\n",
    "Pie['Percent'] /= len(df)\n",
    "colors = ['gold', 'mediumturquoise', 'darkorange', 'lightgreen']\n",
    "fig = px.pie(Pie, names = 'BuildingType', values = 'Percent', title = 'Type of Building', color = \"Percent\")\n",
    "fig.update_traces( textfont_size=20,marker=dict(colors=colors, line=dict(color='#000000', width=2)))\n",
    "fig.show()"
   ]
  },
  {
   "cell_type": "markdown",
   "metadata": {},
   "source": [
    "-----------------------\n",
    "From this piechart, we can clearly see that 27.4 % of the houses are Semi Furnished Single Room and super furnished houses are least i.e 1.2 %\n",
    "\n",
    "------------------------------"
   ]
  },
  {
   "cell_type": "code",
   "execution_count": 15,
   "metadata": {},
   "outputs": [
    {
     "data": {
      "image/png": "[encoded data removed]",
      "text/plain": [
       "<Figure size 432x288 with 1 Axes>"
      ]
     },
     "metadata": {
      "needs_background": "light"
     },
     "output_type": "display_data"
    }
   ],
   "source": [
    "# checking the distribution of balcony per person living in the house\n",
    "\n",
    "sns.violinplot(x= df['NoOfBalcony'],y=df['NoOfPeople']);"
   ]
  },
  {
   "cell_type": "markdown",
   "metadata": {},
   "source": [
    "------------------\n",
    "This violinplot tells us about spread of people living in the house based upon the number of balconies present. We see that,mostly two people are living irrespective of the number of balconies.\n",
    "\n",
    "-----------------"
   ]
  },
  {
   "cell_type": "code",
   "execution_count": 16,
   "metadata": {},
   "outputs": [
    {
     "data": {
      "image/png": "[encoded data removed]",
      "text/plain": [
       "<Figure size 360x360 with 1 Axes>"
      ]
     },
     "metadata": {
      "needs_background": "light"
     },
     "output_type": "display_data"
    }
   ],
   "source": [
    "# getting the count of houses having different number of bathrooms in itbb\n",
    "\n",
    "sns.displot(df['NoOfBath'],color = \"pink\");"
   ]
  },
  {
   "cell_type": "markdown",
   "metadata": {},
   "source": [
    "------------------------\n",
    "This displot tells us the count of houses based on number of bathrooms it has in it. Here, almost 510 houses have 2 bathrooms whereas there are few houses having even 6,8,11 number of bathrooms.\n",
    "\n",
    "----------------------------------"
   ]
  },
  {
   "cell_type": "markdown",
   "metadata": {},
   "source": [
    "## PERFORMING LINEAR REGRESSION\n",
    "---------------------------------------------------"
   ]
  },
  {
   "cell_type": "markdown",
   "metadata": {},
   "source": [
    "## Problem Approach\n",
    "----------------------------------\n",
    "- Identifying dependent and independent variables\n",
    "- Splitting dataset into test and train data using sklearn's command"
   ]
  },
  {
   "cell_type": "code",
   "execution_count": 17,
   "metadata": {},
   "outputs": [],
   "source": [
    "import sklearn.model_selection as sk\n",
    "from sklearn import preprocessing"
   ]
  },
  {
   "cell_type": "code",
   "execution_count": 18,
   "metadata": {},
   "outputs": [
    {
     "name": "stdout",
     "output_type": "stream",
     "text": [
      "**************************************************\n",
      "               INDEPENDENT VARIABLES              \n",
      "**************************************************\n",
      "['BuildingType', 'Location', 'Size', 'AreaSqFt', 'NoOfBath', 'NoOfPeople', 'NoOfBalcony']\n",
      "\n",
      "**************************************************\n",
      "               DEPENDENT VARIABLES                \n",
      "**************************************************\n",
      "RentPerMonth\n"
     ]
    }
   ],
   "source": [
    "# showing dependent and independent variables\n",
    "\n",
    "dependent='RentPerMonth'\n",
    "independent=df.columns.tolist()\n",
    "independent.remove(dependent)\n",
    "\n",
    "x=df[dependent].values\n",
    "y=df[independent].values\n",
    "\n",
    "print(\"*\"*50)\n",
    "print(\" INDEPENDENT VARIABLES\".center(50))\n",
    "print(\"*\"*50)\n",
    "print(independent)\n",
    "\n",
    "\n",
    "print()\n",
    "\n",
    "print(\"*\"*50)\n",
    "print(\"DEPENDENT VARIABLES\".center(50))\n",
    "print(\"*\"*50)\n",
    "print(dependent)"
   ]
  },
  {
   "cell_type": "code",
   "execution_count": 19,
   "metadata": {},
   "outputs": [],
   "source": [
    "# Observed value of housing prices\n",
    "dependent = df[\"RentPerMonth\"]\n",
    "\n",
    "# Created the new dataset. This dataset contains the independent features.\n",
    "new_df = df.drop(\"RentPerMonth\",axis=1)"
   ]
  },
  {
   "cell_type": "code",
   "execution_count": 28,
   "metadata": {},
   "outputs": [
    {
     "data": {
      "text/html": [
       "<div>\n",
       "<style scoped>\n",
       "    .dataframe tbody tr th:only-of-type {\n",
       "        vertical-align: middle;\n",
       "    }\n",
       "\n",
       "    .dataframe tbody tr th {\n",
       "        vertical-align: top;\n",
       "    }\n",
       "\n",
       "    .dataframe thead th {\n",
       "        text-align: right;\n",
       "    }\n",
       "</style>\n",
       "<table border=\"1\" class=\"dataframe\">\n",
       "  <thead>\n",
       "    <tr style=\"text-align: right;\">\n",
       "      <th></th>\n",
       "      <th>BuildingType</th>\n",
       "      <th>Location</th>\n",
       "      <th>Size</th>\n",
       "      <th>AreaSqFt</th>\n",
       "      <th>NoOfBath</th>\n",
       "      <th>NoOfPeople</th>\n",
       "      <th>NoOfBalcony</th>\n",
       "    </tr>\n",
       "  </thead>\n",
       "  <tbody>\n",
       "    <tr>\n",
       "      <th>0</th>\n",
       "      <td>3</td>\n",
       "      <td>8</td>\n",
       "      <td>0</td>\n",
       "      <td>400.0</td>\n",
       "      <td>1</td>\n",
       "      <td>1</td>\n",
       "      <td>1</td>\n",
       "    </tr>\n",
       "    <tr>\n",
       "      <th>1</th>\n",
       "      <td>3</td>\n",
       "      <td>8</td>\n",
       "      <td>0</td>\n",
       "      <td>450.0</td>\n",
       "      <td>1</td>\n",
       "      <td>1</td>\n",
       "      <td>1</td>\n",
       "    </tr>\n",
       "    <tr>\n",
       "      <th>2</th>\n",
       "      <td>3</td>\n",
       "      <td>9</td>\n",
       "      <td>0</td>\n",
       "      <td>530.0</td>\n",
       "      <td>1</td>\n",
       "      <td>1</td>\n",
       "      <td>0</td>\n",
       "    </tr>\n",
       "    <tr>\n",
       "      <th>3</th>\n",
       "      <td>3</td>\n",
       "      <td>2</td>\n",
       "      <td>0</td>\n",
       "      <td>400.0</td>\n",
       "      <td>1</td>\n",
       "      <td>1</td>\n",
       "      <td>0</td>\n",
       "    </tr>\n",
       "    <tr>\n",
       "      <th>4</th>\n",
       "      <td>3</td>\n",
       "      <td>9</td>\n",
       "      <td>2</td>\n",
       "      <td>460.0</td>\n",
       "      <td>1</td>\n",
       "      <td>1</td>\n",
       "      <td>0</td>\n",
       "    </tr>\n",
       "  </tbody>\n",
       "</table>\n",
       "</div>"
      ],
      "text/plain": [
       "   BuildingType  Location  Size  AreaSqFt  NoOfBath  NoOfPeople  NoOfBalcony\n",
       "0             3         8     0     400.0         1           1            1\n",
       "1             3         8     0     450.0         1           1            1\n",
       "2             3         9     0     530.0         1           1            0\n",
       "3             3         2     0     400.0         1           1            0\n",
       "4             3         9     2     460.0         1           1            0"
      ]
     },
     "execution_count": 28,
     "metadata": {},
     "output_type": "execute_result"
    }
   ],
   "source": [
    "# converting categorical features to numerical using LabelEncoder() command\n",
    "\n",
    "lab_encoder = preprocessing.LabelEncoder()\n",
    "\n",
    "new_df['BuildingType']= lab_encoder.fit_transform(df['BuildingType'])\n",
    "new_df['Location']= lab_encoder.fit_transform(df['Location'])\n",
    "new_df['Size']= lab_encoder.fit_transform(df['Size'])\n",
    "new_df.head()"
   ]
  },
  {
   "cell_type": "markdown",
   "metadata": {},
   "source": [
    "**Calculating the loss function for the ratio is 50:50**"
   ]
  },
  {
   "cell_type": "code",
   "execution_count": 29,
   "metadata": {
    "scrolled": false
   },
   "outputs": [
    {
     "name": "stdout",
     "output_type": "stream",
     "text": [
      "**************************************************\n",
      "                Y TRAINING DATASET                \n",
      "**************************************************\n",
      "\n",
      "427     6200.0\n",
      "484     6829.0\n",
      "891    20400.0\n",
      "992    65000.0\n",
      "704    10000.0\n",
      "        ...   \n",
      "866    18000.0\n",
      "790    13000.0\n",
      "509     7000.0\n",
      "281     5049.0\n",
      "101     3668.0\n",
      "Name: RentPerMonth, Length: 500, dtype: float64\n",
      "\n",
      "**************************************************\n",
      "                 Y TESTING DATASET                \n",
      "**************************************************\n",
      "\n",
      "126     4000.0\n",
      "187     4500.0\n",
      "625     8904.0\n",
      "788    13000.0\n",
      "207     4579.0\n",
      "        ...   \n",
      "583     8090.0\n",
      "919    24000.0\n",
      "540     7500.0\n",
      "78      3332.0\n",
      "105     3700.0\n",
      "Name: RentPerMonth, Length: 500, dtype: float64\n",
      "**************************************************\n",
      "                X TRAINING DATASET                \n",
      "**************************************************\n",
      "\n",
      "     BuildingType  Location  Size  AreaSqFt  NoOfBath  NoOfPeople  NoOfBalcony\n",
      "427             5         3     3    1570.0         3           3            2\n",
      "484             4         4     3    1630.0         3           2            2\n",
      "891             0         2     4    2732.0         4           3            2\n",
      "992             9         4     4    5700.0         5           5            3\n",
      "704             1         5     3    1790.0         3           2            2\n",
      "..            ...       ...   ...       ...       ...         ...          ...\n",
      "866             4         3     5    1200.0         5           4            2\n",
      "790             4         8     3    1935.0         4           2            2\n",
      "509             1         5     3    1800.0         2           3            2\n",
      "281             3         7     2     918.0         2           2            1\n",
      "101             3         1     2    1005.0         2           1            1\n",
      "\n",
      "[500 rows x 7 columns]\n",
      "\n",
      "**************************************************\n",
      "                 X TESTING DATASET                \n",
      "**************************************************\n",
      "\n",
      "     BuildingType  Location  Size  AreaSqFt  NoOfBath  NoOfPeople  NoOfBalcony\n",
      "126             3         4     3    1540.0         2           1            0\n",
      "187             5         2     2     720.0         2           1            1\n",
      "625             4         2     2    1308.0         2           3            2\n",
      "788             8         1     3    1750.0         3           2            2\n",
      "207             5         2     2    1145.0         2           1            2\n",
      "..            ...       ...   ...       ...       ...         ...          ...\n",
      "583             1         8     2    1210.0         2           2            1\n",
      "919             6         0     5    3300.0         5           3            2\n",
      "540             4         0     3    1475.0         3           2            2\n",
      "78              3        10     0     595.0         1           2            1\n",
      "105             3         9     3    1075.0         2           1            1\n",
      "\n",
      "[500 rows x 7 columns]\n"
     ]
    }
   ],
   "source": [
    "# splitting dataset into training and testing set using sklearn's train_test_split() command\n",
    "\n",
    "x_train, x_test, y_train, y_test = sk.train_test_split(new_df, dependent, test_size=0.50)\n",
    "\n",
    "\n",
    "print(\"*\"*50)\n",
    "print(\" Y TRAINING DATASET\".center(50))\n",
    "print(\"*\"*50)\n",
    "print()\n",
    "print(y_train)\n",
    "\n",
    "print()\n",
    "\n",
    "print(\"*\"*50)\n",
    "print(\" Y TESTING DATASET\".center(50))\n",
    "print(\"*\"*50)\n",
    "print()\n",
    "print(y_test)\n",
    "\n",
    "print(\"*\"*50)\n",
    "print(\" X TRAINING DATASET\".center(50))\n",
    "print(\"*\"*50)\n",
    "print()\n",
    "print(x_train)\n",
    "print()\n",
    "\n",
    "print(\"*\"*50)\n",
    "print(\" X TESTING DATASET\".center(50))\n",
    "print(\"*\"*50)\n",
    "print()\n",
    "print(x_test)"
   ]
  },
  {
   "cell_type": "code",
   "execution_count": 30,
   "metadata": {
    "scrolled": true
   },
   "outputs": [
    {
     "name": "stdout",
     "output_type": "stream",
     "text": [
      "Shape of x_train::  (500, 7) \n",
      "\n",
      "Shape of x_test::  (500, 7) \n",
      "\n",
      "Shape of y_train::  (500,) \n",
      "\n",
      "Shape of y_test::  (500,) \n",
      "\n"
     ]
    }
   ],
   "source": [
    "print(\"Shape of x_train:: \",x_train.shape,\"\\n\")\n",
    "print(\"Shape of x_test:: \",x_test.shape,\"\\n\")\n",
    "print(\"Shape of y_train:: \",y_train.shape,\"\\n\")\n",
    "print(\"Shape of y_test:: \",y_test.shape,\"\\n\")"
   ]
  },
  {
   "cell_type": "code",
   "execution_count": 23,
   "metadata": {},
   "outputs": [],
   "source": [
    "# libraries to perform linear regression and to calculate the evaluation metrics\n",
    "\n",
    "from sklearn.linear_model import LinearRegression\n",
    "from sklearn.metrics import r2_score\n",
    "from sklearn.metrics import mean_squared_error"
   ]
  },
  {
   "cell_type": "code",
   "execution_count": 31,
   "metadata": {},
   "outputs": [],
   "source": [
    "lin_reg = LinearRegression()\n",
    "\n",
    "lin_reg.fit(x_train,y_train)\n",
    "pred_y = lin_reg.predict(x_test)\n",
    "score=r2_score(y_test,pred_y)"
   ]
  },
  {
   "cell_type": "code",
   "execution_count": 32,
   "metadata": {
    "scrolled": false
   },
   "outputs": [
    {
     "data": {
      "text/html": [
       "<div>\n",
       "<style scoped>\n",
       "    .dataframe tbody tr th:only-of-type {\n",
       "        vertical-align: middle;\n",
       "    }\n",
       "\n",
       "    .dataframe tbody tr th {\n",
       "        vertical-align: top;\n",
       "    }\n",
       "\n",
       "    .dataframe thead th {\n",
       "        text-align: right;\n",
       "    }\n",
       "</style>\n",
       "<table border=\"1\" class=\"dataframe\">\n",
       "  <thead>\n",
       "    <tr style=\"text-align: right;\">\n",
       "      <th></th>\n",
       "      <th>Actual price</th>\n",
       "      <th>Predicted price</th>\n",
       "    </tr>\n",
       "  </thead>\n",
       "  <tbody>\n",
       "    <tr>\n",
       "      <th>126</th>\n",
       "      <td>4000.0</td>\n",
       "      <td>176.014122</td>\n",
       "    </tr>\n",
       "    <tr>\n",
       "      <th>187</th>\n",
       "      <td>4500.0</td>\n",
       "      <td>1379.636958</td>\n",
       "    </tr>\n",
       "    <tr>\n",
       "      <th>625</th>\n",
       "      <td>8904.0</td>\n",
       "      <td>14818.233509</td>\n",
       "    </tr>\n",
       "    <tr>\n",
       "      <th>788</th>\n",
       "      <td>13000.0</td>\n",
       "      <td>14187.773420</td>\n",
       "    </tr>\n",
       "    <tr>\n",
       "      <th>207</th>\n",
       "      <td>4579.0</td>\n",
       "      <td>1720.818895</td>\n",
       "    </tr>\n",
       "    <tr>\n",
       "      <th>...</th>\n",
       "      <td>...</td>\n",
       "      <td>...</td>\n",
       "    </tr>\n",
       "    <tr>\n",
       "      <th>583</th>\n",
       "      <td>8090.0</td>\n",
       "      <td>4678.606720</td>\n",
       "    </tr>\n",
       "    <tr>\n",
       "      <th>919</th>\n",
       "      <td>24000.0</td>\n",
       "      <td>25451.197020</td>\n",
       "    </tr>\n",
       "    <tr>\n",
       "      <th>540</th>\n",
       "      <td>7500.0</td>\n",
       "      <td>10553.043146</td>\n",
       "    </tr>\n",
       "    <tr>\n",
       "      <th>78</th>\n",
       "      <td>3332.0</td>\n",
       "      <td>3416.564156</td>\n",
       "    </tr>\n",
       "    <tr>\n",
       "      <th>105</th>\n",
       "      <td>3700.0</td>\n",
       "      <td>-747.258453</td>\n",
       "    </tr>\n",
       "  </tbody>\n",
       "</table>\n",
       "<p>500 rows × 2 columns</p>\n",
       "</div>"
      ],
      "text/plain": [
       "     Actual price  Predicted price\n",
       "126        4000.0       176.014122\n",
       "187        4500.0      1379.636958\n",
       "625        8904.0     14818.233509\n",
       "788       13000.0     14187.773420\n",
       "207        4579.0      1720.818895\n",
       "..            ...              ...\n",
       "583        8090.0      4678.606720\n",
       "919       24000.0     25451.197020\n",
       "540        7500.0     10553.043146\n",
       "78         3332.0      3416.564156\n",
       "105        3700.0      -747.258453\n",
       "\n",
       "[500 rows x 2 columns]"
      ]
     },
     "execution_count": 32,
     "metadata": {},
     "output_type": "execute_result"
    }
   ],
   "source": [
    "prd_df = pd.DataFrame({'Actual price': y_test, 'Predicted price':pred_y})\n",
    "prd_df"
   ]
  },
  {
   "cell_type": "code",
   "execution_count": 33,
   "metadata": {
    "scrolled": true
   },
   "outputs": [
    {
     "name": "stdout",
     "output_type": "stream",
     "text": [
      "**************************************************\n",
      "                 REGRESSION SCORE                 \n",
      "**************************************************\n",
      "0.6737548843756468\n",
      "\n",
      "**************************************************\n",
      "                    INTERCEPT                     \n",
      "**************************************************\n",
      "-14920.441367873163\n",
      "\n",
      "**************************************************\n",
      "              REGRESSION COEFFICIENT              \n",
      "**************************************************\n",
      "\n",
      "[ 8.70966603e+02 -9.42411265e+01 -4.16825815e+01  8.91290876e-01\n",
      "  2.35071479e+03  6.91155040e+03 -3.76166854e+01]\n"
     ]
    }
   ],
   "source": [
    "print(\"*\"*50)\n",
    "print(\"REGRESSION SCORE\".center(50))\n",
    "print(\"*\"*50)\n",
    "print(score)\n",
    "\n",
    "print()\n",
    "\n",
    "print(\"*\"*50)\n",
    "print(\"INTERCEPT\".center(50))\n",
    "print(\"*\"*50)\n",
    "print(lin_reg.intercept_)\n",
    "\n",
    "print()\n",
    "\n",
    "print(\"*\"*50)\n",
    "print(\"REGRESSION COEFFICIENT\".center(50))\n",
    "print(\"*\"*50)\n",
    "print()\n",
    "print(lin_reg.coef_)"
   ]
  },
  {
   "cell_type": "markdown",
   "metadata": {},
   "source": [
    "## 2] What are the different Error Measures (Evaluation Metrics) in relation to Linear Regression? How much do you get in the above cases?\n",
    "---------------------------------"
   ]
  },
  {
   "cell_type": "markdown",
   "metadata": {},
   "source": [
    "## Problem Approach \n",
    "-------------------------\n",
    "\n",
    "- Importing metrics from sklearn library\n",
    "- Caculating MAE, MSE, RMSE"
   ]
  },
  {
   "cell_type": "code",
   "execution_count": 34,
   "metadata": {},
   "outputs": [],
   "source": [
    "from sklearn import metrics"
   ]
  },
  {
   "cell_type": "code",
   "execution_count": 35,
   "metadata": {
    "scrolled": true
   },
   "outputs": [
    {
     "name": "stdout",
     "output_type": "stream",
     "text": [
      "***************************** EVALUATION METRICES *****************************\n",
      "\n",
      "**************************************************\n",
      "            MEAN ABSOLUTE ERROR (MAE)             \n",
      "**************************************************\n",
      "3947.665993985853\n",
      "\n",
      "**************************************************\n",
      "             MEAN SQUARED ERROR (MSE)             \n",
      "**************************************************\n",
      "28265076.762835976\n",
      "\n",
      "**************************************************\n",
      "         ROOT MEAN ABSOLUTE ERROR (RMSE)          \n",
      "**************************************************\n",
      "5316.4910197268255\n"
     ]
    }
   ],
   "source": [
    "print(\"***************************** EVALUATION METRICES *****************************\")\n",
    "print()\n",
    "\n",
    "print(\"*\"*50)\n",
    "print(\"MEAN ABSOLUTE ERROR (MAE)\".center(50))\n",
    "print(\"*\"*50)\n",
    "print(metrics.mean_absolute_error(y_test,pred_y))\n",
    "\n",
    "print()\n",
    "\n",
    "print(\"*\"*50)\n",
    "print(\"MEAN SQUARED ERROR (MSE)\".center(50))\n",
    "print(\"*\"*50)\n",
    "print(metrics.mean_squared_error(y_test,pred_y))\n",
    "\n",
    "print()\n",
    "\n",
    "print(\"*\"*50)\n",
    "print(\"ROOT MEAN ABSOLUTE ERROR (RMSE)\".center(50))\n",
    "print(\"*\"*50)\n",
    "print(np.sqrt(metrics.mean_squared_error(y_test,pred_y)))"
   ]
  },
  {
   "cell_type": "markdown",
   "metadata": {},
   "source": [
    "## 3] Note down the errors/losses when the train-test ratio is 50:50, 60:40, 70:30, and 80:20\n",
    "------------------------------"
   ]
  },
  {
   "cell_type": "markdown",
   "metadata": {},
   "source": [
    "## Problem Approach\n",
    "----------------------------------\n",
    "- Doing Linear Regression using various split ratios"
   ]
  },
  {
   "cell_type": "markdown",
   "metadata": {},
   "source": [
    "**Calculating the loss function for the ratio is 60:40**"
   ]
  },
  {
   "cell_type": "code",
   "execution_count": 39,
   "metadata": {},
   "outputs": [
    {
     "name": "stdout",
     "output_type": "stream",
     "text": [
      "Shape of x_train::  (600, 7) \n",
      "\n",
      "Shape of x_test::  (400, 7) \n",
      "\n",
      "Shape of y_train::  (600,) \n",
      "\n",
      "Shape of y_test::  (400,) \n",
      "\n"
     ]
    }
   ],
   "source": [
    "x_train, x_test, y_train, y_test = sk.train_test_split(new_df, dependent, test_size=0.40)\n",
    "\n",
    "print(\"Shape of x_train: \",x_train.shape,\"\\n\")\n",
    "print(\"Shape of x_test: \",x_test.shape,\"\\n\")\n",
    "print(\"Shape of y_train: \",y_train.shape,\"\\n\")\n",
    "print(\"Shape of y_test: \",y_test.shape,\"\\n\")"
   ]
  },
  {
   "cell_type": "code",
   "execution_count": 42,
   "metadata": {},
   "outputs": [
    {
     "name": "stdout",
     "output_type": "stream",
     "text": [
      "**************************************************\n",
      "       REGRESSION SCORE WHEN SPLIT IS 60:40       \n",
      "**************************************************\n",
      "0.712208372995868\n"
     ]
    }
   ],
   "source": [
    "lin_reg = LinearRegression()\n",
    "\n",
    "lin_reg.fit(x_train,y_train)\n",
    "pred_y = lin_reg.predict(x_test)\n",
    "score=r2_score(y_test,pred_y)\n",
    "\n",
    "print(\"*\"*50)\n",
    "print(\"REGRESSION SCORE WHEN SPLIT IS 60:40\".center(50))\n",
    "print(\"*\"*50)\n",
    "print(score)"
   ]
  },
  {
   "cell_type": "code",
   "execution_count": 43,
   "metadata": {},
   "outputs": [
    {
     "data": {
      "text/html": [
       "<div>\n",
       "<style scoped>\n",
       "    .dataframe tbody tr th:only-of-type {\n",
       "        vertical-align: middle;\n",
       "    }\n",
       "\n",
       "    .dataframe tbody tr th {\n",
       "        vertical-align: top;\n",
       "    }\n",
       "\n",
       "    .dataframe thead th {\n",
       "        text-align: right;\n",
       "    }\n",
       "</style>\n",
       "<table border=\"1\" class=\"dataframe\">\n",
       "  <thead>\n",
       "    <tr style=\"text-align: right;\">\n",
       "      <th></th>\n",
       "      <th>Actual price</th>\n",
       "      <th>Predicted price</th>\n",
       "    </tr>\n",
       "  </thead>\n",
       "  <tbody>\n",
       "    <tr>\n",
       "      <th>36</th>\n",
       "      <td>2588.0</td>\n",
       "      <td>220.856736</td>\n",
       "    </tr>\n",
       "    <tr>\n",
       "      <th>204</th>\n",
       "      <td>4500.0</td>\n",
       "      <td>1585.264862</td>\n",
       "    </tr>\n",
       "    <tr>\n",
       "      <th>920</th>\n",
       "      <td>24000.0</td>\n",
       "      <td>21001.764237</td>\n",
       "    </tr>\n",
       "    <tr>\n",
       "      <th>593</th>\n",
       "      <td>8300.0</td>\n",
       "      <td>7934.030975</td>\n",
       "    </tr>\n",
       "    <tr>\n",
       "      <th>605</th>\n",
       "      <td>8500.0</td>\n",
       "      <td>8148.371540</td>\n",
       "    </tr>\n",
       "    <tr>\n",
       "      <th>...</th>\n",
       "      <td>...</td>\n",
       "      <td>...</td>\n",
       "    </tr>\n",
       "    <tr>\n",
       "      <th>47</th>\n",
       "      <td>2725.0</td>\n",
       "      <td>-1342.273468</td>\n",
       "    </tr>\n",
       "    <tr>\n",
       "      <th>975</th>\n",
       "      <td>42000.0</td>\n",
       "      <td>46222.437334</td>\n",
       "    </tr>\n",
       "    <tr>\n",
       "      <th>565</th>\n",
       "      <td>7900.0</td>\n",
       "      <td>6303.559919</td>\n",
       "    </tr>\n",
       "    <tr>\n",
       "      <th>267</th>\n",
       "      <td>5000.0</td>\n",
       "      <td>8100.650302</td>\n",
       "    </tr>\n",
       "    <tr>\n",
       "      <th>518</th>\n",
       "      <td>7250.0</td>\n",
       "      <td>7769.839961</td>\n",
       "    </tr>\n",
       "  </tbody>\n",
       "</table>\n",
       "<p>400 rows × 2 columns</p>\n",
       "</div>"
      ],
      "text/plain": [
       "     Actual price  Predicted price\n",
       "36         2588.0       220.856736\n",
       "204        4500.0      1585.264862\n",
       "920       24000.0     21001.764237\n",
       "593        8300.0      7934.030975\n",
       "605        8500.0      8148.371540\n",
       "..            ...              ...\n",
       "47         2725.0     -1342.273468\n",
       "975       42000.0     46222.437334\n",
       "565        7900.0      6303.559919\n",
       "267        5000.0      8100.650302\n",
       "518        7250.0      7769.839961\n",
       "\n",
       "[400 rows x 2 columns]"
      ]
     },
     "execution_count": 43,
     "metadata": {},
     "output_type": "execute_result"
    }
   ],
   "source": [
    "price_df = pd.DataFrame({'Actual price': y_test, 'Predicted price':pred_y})\n",
    "price_df"
   ]
  },
  {
   "cell_type": "markdown",
   "metadata": {},
   "source": [
    "**Calculating the loss function for the ratio is 70:30**"
   ]
  },
  {
   "cell_type": "code",
   "execution_count": 44,
   "metadata": {},
   "outputs": [
    {
     "name": "stdout",
     "output_type": "stream",
     "text": [
      "Shape of x_train:  (700, 7) \n",
      "\n",
      "Shape of x_test:  (300, 7) \n",
      "\n",
      "Shape of y_train:  (700,) \n",
      "\n",
      "Shape of y_test:  (300,) \n",
      "\n"
     ]
    }
   ],
   "source": [
    "x_train, x_test, y_train, y_test = sk.train_test_split(new_df, dependent, test_size=0.30)\n",
    "\n",
    "print(\"Shape of x_train: \",x_train.shape,\"\\n\")\n",
    "print(\"Shape of x_test: \",x_test.shape,\"\\n\")\n",
    "print(\"Shape of y_train: \",y_train.shape,\"\\n\")\n",
    "print(\"Shape of y_test: \",y_test.shape,\"\\n\")"
   ]
  },
  {
   "cell_type": "code",
   "execution_count": 45,
   "metadata": {},
   "outputs": [
    {
     "name": "stdout",
     "output_type": "stream",
     "text": [
      "**************************************************\n",
      "       REGRESSION SCORE WHEN SPLIT IS 70:30       \n",
      "**************************************************\n",
      "0.6668015265300906\n"
     ]
    }
   ],
   "source": [
    "lin_reg = LinearRegression()\n",
    "\n",
    "lin_reg.fit(x_train,y_train)\n",
    "pred_y = lin_reg.predict(x_test)\n",
    "score=r2_score(y_test,pred_y)\n",
    "\n",
    "print(\"*\"*50)\n",
    "print(\"REGRESSION SCORE WHEN SPLIT IS 70:30\".center(50))\n",
    "print(\"*\"*50)\n",
    "print(score)"
   ]
  },
  {
   "cell_type": "code",
   "execution_count": 46,
   "metadata": {},
   "outputs": [
    {
     "data": {
      "text/html": [
       "<div>\n",
       "<style scoped>\n",
       "    .dataframe tbody tr th:only-of-type {\n",
       "        vertical-align: middle;\n",
       "    }\n",
       "\n",
       "    .dataframe tbody tr th {\n",
       "        vertical-align: top;\n",
       "    }\n",
       "\n",
       "    .dataframe thead th {\n",
       "        text-align: right;\n",
       "    }\n",
       "</style>\n",
       "<table border=\"1\" class=\"dataframe\">\n",
       "  <thead>\n",
       "    <tr style=\"text-align: right;\">\n",
       "      <th></th>\n",
       "      <th>Actual price</th>\n",
       "      <th>Predicted price</th>\n",
       "    </tr>\n",
       "  </thead>\n",
       "  <tbody>\n",
       "    <tr>\n",
       "      <th>645</th>\n",
       "      <td>9145.0</td>\n",
       "      <td>10817.745485</td>\n",
       "    </tr>\n",
       "    <tr>\n",
       "      <th>859</th>\n",
       "      <td>16500.0</td>\n",
       "      <td>17909.298667</td>\n",
       "    </tr>\n",
       "    <tr>\n",
       "      <th>477</th>\n",
       "      <td>6700.0</td>\n",
       "      <td>8210.396168</td>\n",
       "    </tr>\n",
       "    <tr>\n",
       "      <th>637</th>\n",
       "      <td>9000.0</td>\n",
       "      <td>18228.626681</td>\n",
       "    </tr>\n",
       "    <tr>\n",
       "      <th>79</th>\n",
       "      <td>3400.0</td>\n",
       "      <td>855.384151</td>\n",
       "    </tr>\n",
       "    <tr>\n",
       "      <th>...</th>\n",
       "      <td>...</td>\n",
       "      <td>...</td>\n",
       "    </tr>\n",
       "    <tr>\n",
       "      <th>506</th>\n",
       "      <td>7000.0</td>\n",
       "      <td>11743.748206</td>\n",
       "    </tr>\n",
       "    <tr>\n",
       "      <th>333</th>\n",
       "      <td>5500.0</td>\n",
       "      <td>8902.897212</td>\n",
       "    </tr>\n",
       "    <tr>\n",
       "      <th>922</th>\n",
       "      <td>24500.0</td>\n",
       "      <td>28946.197262</td>\n",
       "    </tr>\n",
       "    <tr>\n",
       "      <th>806</th>\n",
       "      <td>14000.0</td>\n",
       "      <td>15822.862469</td>\n",
       "    </tr>\n",
       "    <tr>\n",
       "      <th>832</th>\n",
       "      <td>15000.0</td>\n",
       "      <td>11504.872829</td>\n",
       "    </tr>\n",
       "  </tbody>\n",
       "</table>\n",
       "<p>300 rows × 2 columns</p>\n",
       "</div>"
      ],
      "text/plain": [
       "     Actual price  Predicted price\n",
       "645        9145.0     10817.745485\n",
       "859       16500.0     17909.298667\n",
       "477        6700.0      8210.396168\n",
       "637        9000.0     18228.626681\n",
       "79         3400.0       855.384151\n",
       "..            ...              ...\n",
       "506        7000.0     11743.748206\n",
       "333        5500.0      8902.897212\n",
       "922       24500.0     28946.197262\n",
       "806       14000.0     15822.862469\n",
       "832       15000.0     11504.872829\n",
       "\n",
       "[300 rows x 2 columns]"
      ]
     },
     "execution_count": 46,
     "metadata": {},
     "output_type": "execute_result"
    }
   ],
   "source": [
    "price_df = pd.DataFrame({'Actual price': y_test, 'Predicted price':pred_y})\n",
    "price_df"
   ]
  },
  {
   "cell_type": "markdown",
   "metadata": {},
   "source": [
    "**Calculating the loss function for the ratio is 80:20¶**"
   ]
  },
  {
   "cell_type": "code",
   "execution_count": 47,
   "metadata": {},
   "outputs": [
    {
     "name": "stdout",
     "output_type": "stream",
     "text": [
      "Shape of x_train:  (800, 7) \n",
      "\n",
      "Shape of x_test:  (200, 7) \n",
      "\n",
      "Shape of y_train:  (800,) \n",
      "\n",
      "Shape of y_test:  (200,) \n",
      "\n"
     ]
    }
   ],
   "source": [
    "x_train, x_test, y_train, y_test = sk.train_test_split(new_df, dependent, test_size=0.20)\n",
    "\n",
    "print(\"Shape of x_train: \",x_train.shape,\"\\n\")\n",
    "print(\"Shape of x_test: \",x_test.shape,\"\\n\")\n",
    "print(\"Shape of y_train: \",y_train.shape,\"\\n\")\n",
    "print(\"Shape of y_test: \",y_test.shape,\"\\n\")"
   ]
  },
  {
   "cell_type": "code",
   "execution_count": 50,
   "metadata": {},
   "outputs": [
    {
     "name": "stdout",
     "output_type": "stream",
     "text": [
      "**************************************************\n",
      "       REGRESSION SCORE WHEN SPLIT IS 80:20       \n",
      "**************************************************\n",
      "0.6531710217657285\n"
     ]
    }
   ],
   "source": [
    "lin_reg = LinearRegression()\n",
    "\n",
    "lin_reg.fit(x_train,y_train)\n",
    "pred_y = lin_reg.predict(x_test)\n",
    "score=r2_score(y_test,pred_y)\n",
    "\n",
    "print(\"*\"*50)\n",
    "print(\"REGRESSION SCORE WHEN SPLIT IS 80:20\".center(50))\n",
    "print(\"*\"*50)\n",
    "print(score)"
   ]
  },
  {
   "cell_type": "code",
   "execution_count": 49,
   "metadata": {
    "scrolled": false
   },
   "outputs": [
    {
     "data": {
      "text/html": [
       "<div>\n",
       "<style scoped>\n",
       "    .dataframe tbody tr th:only-of-type {\n",
       "        vertical-align: middle;\n",
       "    }\n",
       "\n",
       "    .dataframe tbody tr th {\n",
       "        vertical-align: top;\n",
       "    }\n",
       "\n",
       "    .dataframe thead th {\n",
       "        text-align: right;\n",
       "    }\n",
       "</style>\n",
       "<table border=\"1\" class=\"dataframe\">\n",
       "  <thead>\n",
       "    <tr style=\"text-align: right;\">\n",
       "      <th></th>\n",
       "      <th>Actual price</th>\n",
       "      <th>Predicted price</th>\n",
       "    </tr>\n",
       "  </thead>\n",
       "  <tbody>\n",
       "    <tr>\n",
       "      <th>770</th>\n",
       "      <td>12500.0</td>\n",
       "      <td>10671.625306</td>\n",
       "    </tr>\n",
       "    <tr>\n",
       "      <th>208</th>\n",
       "      <td>4580.0</td>\n",
       "      <td>1645.235131</td>\n",
       "    </tr>\n",
       "    <tr>\n",
       "      <th>946</th>\n",
       "      <td>28000.0</td>\n",
       "      <td>24015.203003</td>\n",
       "    </tr>\n",
       "    <tr>\n",
       "      <th>497</th>\n",
       "      <td>7000.0</td>\n",
       "      <td>5236.094838</td>\n",
       "    </tr>\n",
       "    <tr>\n",
       "      <th>997</th>\n",
       "      <td>80000.0</td>\n",
       "      <td>36245.503895</td>\n",
       "    </tr>\n",
       "    <tr>\n",
       "      <th>...</th>\n",
       "      <td>...</td>\n",
       "      <td>...</td>\n",
       "    </tr>\n",
       "    <tr>\n",
       "      <th>857</th>\n",
       "      <td>16500.0</td>\n",
       "      <td>14586.315292</td>\n",
       "    </tr>\n",
       "    <tr>\n",
       "      <th>593</th>\n",
       "      <td>8300.0</td>\n",
       "      <td>7647.882012</td>\n",
       "    </tr>\n",
       "    <tr>\n",
       "      <th>912</th>\n",
       "      <td>23000.0</td>\n",
       "      <td>23436.533192</td>\n",
       "    </tr>\n",
       "    <tr>\n",
       "      <th>879</th>\n",
       "      <td>19400.0</td>\n",
       "      <td>10819.125134</td>\n",
       "    </tr>\n",
       "    <tr>\n",
       "      <th>311</th>\n",
       "      <td>5350.0</td>\n",
       "      <td>8282.739380</td>\n",
       "    </tr>\n",
       "  </tbody>\n",
       "</table>\n",
       "<p>200 rows × 2 columns</p>\n",
       "</div>"
      ],
      "text/plain": [
       "     Actual price  Predicted price\n",
       "770       12500.0     10671.625306\n",
       "208        4580.0      1645.235131\n",
       "946       28000.0     24015.203003\n",
       "497        7000.0      5236.094838\n",
       "997       80000.0     36245.503895\n",
       "..            ...              ...\n",
       "857       16500.0     14586.315292\n",
       "593        8300.0      7647.882012\n",
       "912       23000.0     23436.533192\n",
       "879       19400.0     10819.125134\n",
       "311        5350.0      8282.739380\n",
       "\n",
       "[200 rows x 2 columns]"
      ]
     },
     "execution_count": 49,
     "metadata": {},
     "output_type": "execute_result"
    }
   ],
   "source": [
    "price_df = pd.DataFrame({'Actual price': y_test, 'Predicted price':pred_y})\n",
    "price_df"
   ]
  },
  {
   "cell_type": "markdown",
   "metadata": {},
   "source": [
    "## Inference:\n",
    "----------------------\n",
    "Here, we see that we are getting good r2_score when the split ratio 80:20\n"
   ]
  },
  {
   "cell_type": "markdown",
   "metadata": {},
   "source": [
    "## 4] During LinearRegression() process, what is the impact of giving TRUE/FALSE as the value for Normalize Parameter?\n",
    "------------------------------------------------------"
   ]
  },
  {
   "cell_type": "markdown",
   "metadata": {},
   "source": [
    "### CASES:"
   ]
  },
  {
   "cell_type": "markdown",
   "metadata": {},
   "source": [
    "**1] BHK with 2 Bathrooms in Portofino Street**"
   ]
  },
  {
   "cell_type": "code",
   "execution_count": 53,
   "metadata": {
    "scrolled": true
   },
   "outputs": [
    {
     "data": {
      "text/html": [
       "<div>\n",
       "<style scoped>\n",
       "    .dataframe tbody tr th:only-of-type {\n",
       "        vertical-align: middle;\n",
       "    }\n",
       "\n",
       "    .dataframe tbody tr th {\n",
       "        vertical-align: top;\n",
       "    }\n",
       "\n",
       "    .dataframe thead th {\n",
       "        text-align: right;\n",
       "    }\n",
       "</style>\n",
       "<table border=\"1\" class=\"dataframe\">\n",
       "  <thead>\n",
       "    <tr style=\"text-align: right;\">\n",
       "      <th></th>\n",
       "      <th>BuildingType</th>\n",
       "      <th>Location</th>\n",
       "      <th>Size</th>\n",
       "      <th>AreaSqFt</th>\n",
       "      <th>NoOfBath</th>\n",
       "      <th>NoOfPeople</th>\n",
       "      <th>NoOfBalcony</th>\n",
       "      <th>Price</th>\n",
       "    </tr>\n",
       "  </thead>\n",
       "  <tbody>\n",
       "    <tr>\n",
       "      <th>0</th>\n",
       "      <td>1</td>\n",
       "      <td>8</td>\n",
       "      <td>1</td>\n",
       "      <td>2</td>\n",
       "      <td>3</td>\n",
       "      <td>5</td>\n",
       "      <td>5</td>\n",
       "      <td>27174.44944</td>\n",
       "    </tr>\n",
       "  </tbody>\n",
       "</table>\n",
       "</div>"
      ],
      "text/plain": [
       "   BuildingType  Location  Size  AreaSqFt  NoOfBath  NoOfPeople  NoOfBalcony  \\\n",
       "0             1         8     1         2         3           5            5   \n",
       "\n",
       "         Price  \n",
       "0  27174.44944  "
      ]
     },
     "execution_count": 53,
     "metadata": {},
     "output_type": "execute_result"
    }
   ],
   "source": [
    "price_data = pd.DataFrame()\n",
    "price_data['BuildingType'] = [1]\n",
    "price_data['Location'] = [8]\n",
    "price_data['Size'] = [1]\n",
    "price_data['AreaSqFt'] = [2]\n",
    "price_data['NoOfBath'] = [3]\n",
    "price_data['NoOfPeople'] = [5]\n",
    "price_data['NoOfBalcony'] = [5]\n",
    "y_pred = lin_reg.predict(price_data)\n",
    "price_data['Price'] = y_pred\n",
    "\n",
    "price_data"
   ]
  },
  {
   "cell_type": "markdown",
   "metadata": {},
   "source": [
    "-------------------\n",
    "Thus, the prediction says that houses with 2 bathrooms have rent of Rupees 27174 /-\n",
    "\n",
    "---------------"
   ]
  },
  {
   "cell_type": "markdown",
   "metadata": {},
   "source": [
    "**2] Fully Furnished 2 BHK in School Street**"
   ]
  },
  {
   "cell_type": "code",
   "execution_count": 55,
   "metadata": {},
   "outputs": [
    {
     "data": {
      "text/html": [
       "<div>\n",
       "<style scoped>\n",
       "    .dataframe tbody tr th:only-of-type {\n",
       "        vertical-align: middle;\n",
       "    }\n",
       "\n",
       "    .dataframe tbody tr th {\n",
       "        vertical-align: top;\n",
       "    }\n",
       "\n",
       "    .dataframe thead th {\n",
       "        text-align: right;\n",
       "    }\n",
       "</style>\n",
       "<table border=\"1\" class=\"dataframe\">\n",
       "  <thead>\n",
       "    <tr style=\"text-align: right;\">\n",
       "      <th></th>\n",
       "      <th>BuildingType</th>\n",
       "      <th>Location</th>\n",
       "      <th>Size</th>\n",
       "      <th>AreaSqFt</th>\n",
       "      <th>NoOfBath</th>\n",
       "      <th>NoOfPeople</th>\n",
       "      <th>NoOfBalcony</th>\n",
       "      <th>Price</th>\n",
       "    </tr>\n",
       "  </thead>\n",
       "  <tbody>\n",
       "    <tr>\n",
       "      <th>0</th>\n",
       "      <td>9</td>\n",
       "      <td>2</td>\n",
       "      <td>2</td>\n",
       "      <td>2</td>\n",
       "      <td>3</td>\n",
       "      <td>5</td>\n",
       "      <td>5</td>\n",
       "      <td>31270.686909</td>\n",
       "    </tr>\n",
       "  </tbody>\n",
       "</table>\n",
       "</div>"
      ],
      "text/plain": [
       "   BuildingType  Location  Size  AreaSqFt  NoOfBath  NoOfPeople  NoOfBalcony  \\\n",
       "0             9         2     2         2         3           5            5   \n",
       "\n",
       "          Price  \n",
       "0  31270.686909  "
      ]
     },
     "execution_count": 55,
     "metadata": {},
     "output_type": "execute_result"
    }
   ],
   "source": [
    "price_data = pd.DataFrame()\n",
    "price_data['BuildingType'] = [9]\n",
    "price_data['Location'] = [2]\n",
    "price_data['Size'] = [2]\n",
    "price_data['AreaSqFt'] = [2]\n",
    "price_data['NoOfBath'] = [3]\n",
    "price_data['NoOfPeople'] = [5]\n",
    "price_data['NoOfBalcony'] = [5]\n",
    "y_pred = lin_reg.predict(price_data)\n",
    "price_data['Price'] = y_pred\n",
    "\n",
    "price_data"
   ]
  },
  {
   "cell_type": "markdown",
   "metadata": {},
   "source": [
    "---------------------\n",
    "Thus, the prediction says that  Fully Furnished 2 BHK in School Street have rent of Rupees 31270 /-\n",
    "\n",
    "-----------------------"
   ]
  },
  {
   "cell_type": "markdown",
   "metadata": {},
   "source": [
    "**3] Single Room anywhere in Lavasa**"
   ]
  },
  {
   "cell_type": "code",
   "execution_count": 57,
   "metadata": {},
   "outputs": [
    {
     "data": {
      "text/html": [
       "<div>\n",
       "<style scoped>\n",
       "    .dataframe tbody tr th:only-of-type {\n",
       "        vertical-align: middle;\n",
       "    }\n",
       "\n",
       "    .dataframe tbody tr th {\n",
       "        vertical-align: top;\n",
       "    }\n",
       "\n",
       "    .dataframe thead th {\n",
       "        text-align: right;\n",
       "    }\n",
       "</style>\n",
       "<table border=\"1\" class=\"dataframe\">\n",
       "  <thead>\n",
       "    <tr style=\"text-align: right;\">\n",
       "      <th></th>\n",
       "      <th>BuildingType</th>\n",
       "      <th>Location</th>\n",
       "      <th>Size</th>\n",
       "      <th>AreaSqFt</th>\n",
       "      <th>NoOfBath</th>\n",
       "      <th>NoOfPeople</th>\n",
       "      <th>NoOfBalcony</th>\n",
       "      <th>Price</th>\n",
       "    </tr>\n",
       "  </thead>\n",
       "  <tbody>\n",
       "    <tr>\n",
       "      <th>0</th>\n",
       "      <td>3</td>\n",
       "      <td>2</td>\n",
       "      <td>3</td>\n",
       "      <td>2</td>\n",
       "      <td>3</td>\n",
       "      <td>5</td>\n",
       "      <td>5</td>\n",
       "      <td>27400.436054</td>\n",
       "    </tr>\n",
       "  </tbody>\n",
       "</table>\n",
       "</div>"
      ],
      "text/plain": [
       "   BuildingType  Location  Size  AreaSqFt  NoOfBath  NoOfPeople  NoOfBalcony  \\\n",
       "0             3         2     3         2         3           5            5   \n",
       "\n",
       "          Price  \n",
       "0  27400.436054  "
      ]
     },
     "execution_count": 57,
     "metadata": {},
     "output_type": "execute_result"
    }
   ],
   "source": [
    "price_data = pd.DataFrame()\n",
    "price_data['BuildingType'] = [3]\n",
    "price_data['Location'] = [2]\n",
    "price_data['Size'] = [3]\n",
    "price_data['AreaSqFt'] = [2]\n",
    "price_data['NoOfBath'] = [3]\n",
    "price_data['NoOfPeople'] = [5]\n",
    "price_data['NoOfBalcony'] = [5]\n",
    "y_pred = lin_reg.predict(price_data)\n",
    "price_data['Price'] = y_pred\n",
    "\n",
    "price_data"
   ]
  },
  {
   "cell_type": "markdown",
   "metadata": {},
   "source": [
    "---------------------\n",
    "Thus, the prediction says that Single Room anywhere in Lavasa have rent of  around Rupees 27400 /-\n",
    "\n",
    "-----------------------"
   ]
  },
  {
   "cell_type": "markdown",
   "metadata": {},
   "source": [
    "## References\n",
    "----------------------------------------\n",
    "- https://www.analyticsvidhya.com/blog/2021/04/20-must-known-pandas-function-for-exploratory-data-analysis-eda/\n",
    "- https://www.dataquest.io/blog/understanding-regression-error-metrics/\n",
    "- https://towardsdatascience.com/create-a-model-to-predict-house-prices-using-python-d34fe8fad88f\n",
    "- https://stackoverflow.com/questions/59740434/how-to-print-intercept-and-slope-of-a-simple-linear-regression-in-python-with-sc\n",
    "- https://www.theanalysisfactor.com/interpreting-the-intercept-in-a-regression-model/\n",
    "- https://plotly.com/python/pie-charts/"
   ]
  },
  {
   "cell_type": "markdown",
   "metadata": {},
   "source": [
    "## Conclusion \n",
    "----------------------------------\n",
    "- In this lab, I learnt how to do EDA on the dataset, get better understanding about the dataset and use that knowledge to perform linear regression to predict rent prices.\n",
    "- It was difficult to explore soo many commands related to linear regression and I'm still not sure about why certain commands are necessary here."
   ]
  }
 ],
 "metadata": {
  "kernelspec": {
   "display_name": "Python 3",
   "language": "python",
   "name": "python3"
  },
  "language_info": {
   "codemirror_mode": {
    "name": "ipython",
    "version": 3
   },
   "file_extension": ".py",
   "mimetype": "text/x-python",
   "name": "python",
   "nbconvert_exporter": "python",
   "pygments_lexer": "ipython3",
   "version": "3.8.3"
  }
 },
 "nbformat": 4,
 "nbformat_minor": 4
}
